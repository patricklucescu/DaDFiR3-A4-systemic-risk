{
 "cells": [
  {
   "cell_type": "code",
   "execution_count": 66,
   "id": "a98b8e09-7ddf-4b9e-805f-dc981f8ea3db",
   "metadata": {},
   "outputs": [],
   "source": [
    "import numpy as np\n",
    "import matplotlib.pyplot as plt"
   ]
  },
  {
   "cell_type": "code",
   "execution_count": 91,
   "id": "94839836-f6a3-490c-a2f3-0fff22298a16",
   "metadata": {},
   "outputs": [],
   "source": [
    "q =[0.005, 0.01,0.02] # list of default probabilities\n",
    "r = np.array([0, 0.05, 0.06]) # risk free interest rates\n",
    "payment_dates = [0,1,2]\n",
    "R = 0.3 # recovery rate\n",
    "T = 2 # life of credit default swap\n",
    "w = 0.2\n",
    "num_times = 1000\n",
    "bond_ir = 0.07"
   ]
  },
  {
   "cell_type": "markdown",
   "id": "9d2fc4e5-4ffa-4b2c-a473-fce3eec35593",
   "metadata": {},
   "source": [
    "We assume can happen at any time"
   ]
  },
  {
   "cell_type": "code",
   "execution_count": 92,
   "id": "fc1aacdc-1fb8-4c64-94ce-446eeda7dd50",
   "metadata": {},
   "outputs": [],
   "source": [
    "t_space = np.linspace(0.001,T, num_times)\n",
    "delta_t = t_space[1] - t_space[0]\n",
    "t_star_idx = [max(list(filter(lambda i: i < t, payment_dates))) for t in t_space]\n",
    "q_density = [q[t_idx] for t_idx in t_star_idx]\n",
    "interp_ir = [np.interp(t, payment_dates, r) for t in t_space]\n",
    "u = [np.sum(1 /(1 + r[:t_idx+1])) for t_idx in t_star_idx]\n",
    "e = [(t-payment_dates[t_idx]) / (1+ir_t) for t, t_idx, ir_t in zip(t_space, t_star_idx, interp_ir)]\n",
    "v = [1 / (1 +ir_t) for ir_t in interp_ir]\n",
    "A = 1## ???"
   ]
  },
  {
   "cell_type": "code",
   "execution_count": 90,
   "id": "b6115f62-d36a-49fc-bcfe-0dcaa19e5d2f",
   "metadata": {},
   "outputs": [],
   "source": [
    "pi = 1 - delta_t * sum(q_density)\n",
    "expected_pres_val_payments = delta_t * sum([q_density[i] * (u[i] + e[i]) for i in range(len(t_space))]) + pi * u[-1]\n",
    "expected_payoff = delta_t * sum([(1 - R - R * A[i]) * q[i] * v[i] for i in range(len(t_space))])\n",
    "\n",
    "s = expected_payoff / expected_pres_val_payments"
   ]
  },
  {
   "cell_type": "code",
   "execution_count": null,
   "id": "79d542d1-46d8-4a0c-b72b-0fa052351bb0",
   "metadata": {},
   "outputs": [],
   "source": []
  },
  {
   "cell_type": "code",
   "execution_count": 46,
   "id": "0d44c061-ebb1-4390-8503-997938114d76",
   "metadata": {},
   "outputs": [],
   "source": [
    "delta_t = payment_dates[1] - payment_dates[0]\n",
    "pi = 1 - delta_t * np.sum(q)\n",
    "e = lambda t: 1 / (1 + r[payment_dates.index(t)])\n",
    "v = lambda t: 1 / (1 + r[payment_dates.index(t)])\n",
    "u = lambda t: np.sum(1 /(1 + r[:payment_dates.index(t)]))\n",
    "A = lambda t, bond_interest: 1"
   ]
  },
  {
   "cell_type": "code",
   "execution_count": null,
   "id": "b1d47f14-bb0c-485b-98fa-b615a4957313",
   "metadata": {},
   "outputs": [],
   "source": [
    "expected_payoff = [1 - R - R * A(t)] * q(t) * v(t)"
   ]
  },
  {
   "cell_type": "code",
   "execution_count": 40,
   "id": "b6a7c28f-2fcf-432d-a273-7a009d596147",
   "metadata": {},
   "outputs": [],
   "source": [
    "def u(t, r, payment_dates):\n",
    "    \"\"\"\n",
    "    present value of payments at the rate of $1 per year on payment dates between time zero and time t\n",
    "    \"\"\"\n",
    "    t_star_idx = max(list(filter(lambda i: i < t, payment_dates)))\n",
    "    return np.sum(1 /(1 + r[:t_star_idx+1]))\n",
    "\n",
    "def get_ir(t, r, payment_dates):\n",
    "    \"\"\"\n",
    "    interpolated interest rate at time t\n",
    "    \"\"\"\n",
    "    return np.interp(t, payment_dates, r)\n",
    "\n",
    "def v(t, payment_dates, r):\n",
    "    \"\"\"\n",
    "    present value of $1 received at time t\n",
    "    \"\"\"\n",
    "    return 1 / np.interp(t, payment_dates, r)\n",
    "\n",
    "\n",
    "def e(t, r, payment_dates):\n",
    "    ir_t = np.interp(t, payment_dates, r)\n",
    "    t_star_idx = max(list(filter(lambda i: i < t, payment_dates)))\n",
    "    return (t-payment_dates[t_star_idx]) / (1+ir_t)\n",
    "\n",
    "def A(t, interest_bond, face_value, r, payment_dates):\n",
    "    t_star_idx = max(list(filter(lambda i: i < t, payment_dates)))\n",
    "    interest_bond / (1+r[t_star_idx])"
   ]
  },
  {
   "cell_type": "code",
   "execution_count": 38,
   "id": "7fe69be4-a796-43ed-928e-4ec5d84268e7",
   "metadata": {},
   "outputs": [],
   "source": []
  },
  {
   "cell_type": "code",
   "execution_count": null,
   "id": "7150d3b3-d389-4e2f-bdc8-11626709eebb",
   "metadata": {},
   "outputs": [],
   "source": []
  }
 ],
 "metadata": {
  "kernelspec": {
   "display_name": "Python 3",
   "language": "python",
   "name": "python3"
  },
  "language_info": {
   "codemirror_mode": {
    "name": "ipython",
    "version": 3
   },
   "file_extension": ".py",
   "mimetype": "text/x-python",
   "name": "python",
   "nbconvert_exporter": "python",
   "pygments_lexer": "ipython3",
   "version": "3.8.8"
  }
 },
 "nbformat": 4,
 "nbformat_minor": 5
}
