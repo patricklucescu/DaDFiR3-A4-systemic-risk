{
 "cells": [
  {
   "cell_type": "code",
   "execution_count": 9,
   "id": "20dc3152-863e-4c36-8da5-961d728e330c",
   "metadata": {},
   "outputs": [],
   "source": [
    "import numpy as np\n",
    "from helpers import *\n",
    "import matplotlib.pyplot as plt"
   ]
  },
  {
   "cell_type": "code",
   "execution_count": 121,
   "id": "a98b6be8-2691-4499-8c88-02959c795559",
   "metadata": {},
   "outputs": [],
   "source": [
    "loc = [0,0.1]\n",
    "scale = [0.004,0.002]\n",
    "beta = [1, 1]\n",
    "market_tail_exp = 0.01\n",
    "sims = 1000\n",
    "L = np.array([[0,0], [0.6, 0]])\n",
    "\n",
    "bank_portfolios_returns = generate_bank_portfolios(loc, scale, beta, market_tail_exp, sims)"
   ]
  },
  {
   "cell_type": "code",
   "execution_count": null,
   "id": "3ff1b33e-0002-41cd-825c-65499d43b2ae",
   "metadata": {},
   "outputs": [],
   "source": [
    "w_0"
   ]
  }
 ],
 "metadata": {
  "kernelspec": {
   "display_name": "Python 3 (ipykernel)",
   "language": "python",
   "name": "python3"
  },
  "language_info": {
   "codemirror_mode": {
    "name": "ipython",
    "version": 3
   },
   "file_extension": ".py",
   "mimetype": "text/x-python",
   "name": "python",
   "nbconvert_exporter": "python",
   "pygments_lexer": "ipython3",
   "version": "3.10.4"
  }
 },
 "nbformat": 4,
 "nbformat_minor": 5
}
