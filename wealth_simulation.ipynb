{
 "cells": [
  {
   "cell_type": "code",
   "execution_count": 1,
   "id": "20dc3152-863e-4c36-8da5-961d728e330c",
   "metadata": {},
   "outputs": [],
   "source": [
    "import numpy as np\n",
    "from helpers import *\n",
    "import matplotlib.pyplot as plt\n",
    "from sklearn.preprocessing import normalize"
   ]
  },
  {
   "cell_type": "code",
   "execution_count": 2,
   "id": "b7875d89-d4ce-463c-a45d-a7c30e95a4c0",
   "metadata": {},
   "outputs": [],
   "source": [
    "N = 3\n",
    "loc = [0,0.1, 0.1]\n",
    "scale = [0.004,0.002, 0.003]\n",
    "beta = [1, 1, 2]\n",
    "market_tail_exp = 0.01\n",
    "sims = 10000\n",
    "L = np.array([[0,80, 20], [40, 0, 0], [15, 0,0]])\n",
    "R = np.array([[0,0,0], [0,0,0], [0,0,0]])\n",
    "w_0 = [100,150, 20]"
   ]
  },
  {
   "cell_type": "code",
   "execution_count": 3,
   "id": "a98b6be8-2691-4499-8c88-02959c795559",
   "metadata": {},
   "outputs": [],
   "source": [
    "def wealth_simulation(N, loc, scale, beta, market_tail_exp, L, R, w_0, sims):\n",
    "    D = np.multiply(L, 1 + R)\n",
    "    bank_portfolios_returns = generate_bank_portfolios(loc, scale, beta, market_tail_exp, sims)\n",
    "    a_0 = [w_0[i] - np.sum(L[:,i]) + np.sum(L[i,:]) for i in range(N)] # innitial equity values\n",
    "    a_0 = np.array([a_0 for i in range(sims)])\n",
    "    a_1 = np.multiply(a_0, 1 + bank_portfolios_returns)\n",
    "    payment_vec = [fictitious_default(a_1[i,:], D) for i in range(sims)]\n",
    "    Pi = normalize(D, axis=1, norm='l1')\n",
    "    f_1 = payment_vec - np.array([[np.dot(payment_vec[j], Pi[:,i]) for i in range(N)] for j in range(sims)])\n",
    "    w_1 = a_1 - f_1\n",
    "    return w_1"
   ]
  },
  {
   "cell_type": "code",
   "execution_count": 4,
   "id": "92f727a1-6b22-4b55-8dfe-dac77323d0f9",
   "metadata": {},
   "outputs": [],
   "source": [
    "w_1 = wealth_simulation(N, loc, scale, beta, market_tail_exp, L, R, w_0, 1000)\n",
    "w_1s = wealth_simulation(N, loc, scale, beta, market_tail_exp, np.array([[0,80, 0], [40, 0, 0], [15, 0,0]]), R, w_0, 1000)"
   ]
  },
  {
   "cell_type": "code",
   "execution_count": 5,
   "id": "29951f92-18c8-4dbb-8949-951e81192b15",
   "metadata": {},
   "outputs": [
    {
     "data": {
      "text/plain": [
       "39.62778569069554"
      ]
     },
     "execution_count": 5,
     "metadata": {},
     "output_type": "execute_result"
    }
   ],
   "source": [
    "np.quantile(w_1[:,0], 0.01)"
   ]
  },
  {
   "cell_type": "code",
   "execution_count": 6,
   "id": "a9bbc920-efd9-4724-9f51-dfe85c1160f5",
   "metadata": {},
   "outputs": [
    {
     "data": {
      "text/plain": [
       "72.11028882472127"
      ]
     },
     "execution_count": 6,
     "metadata": {},
     "output_type": "execute_result"
    }
   ],
   "source": [
    "np.quantile(w_1s[:,0], 0.01)"
   ]
  },
  {
   "cell_type": "code",
   "execution_count": 14,
   "id": "1e9fab1c-8cb3-4bd1-b37f-eb6462f33ae7",
   "metadata": {},
   "outputs": [
    {
     "data": {
      "image/png": "[encoded data removed]",
      "text/plain": [
       "<Figure size 1000x600 with 1 Axes>"
      ]
     },
     "metadata": {},
     "output_type": "display_data"
    }
   ],
   "source": [
    "plt.figure(figsize=(10,6))\n",
    "plt.hist(w_1[:,0], bins=40)\n",
    "plt.hist(w_1s[:,0], bins=40)\n",
    "plt.savefig('wealth_sim.png',dpi=400, facecolor='w', edgecolor='w', bbox_inches='tight')\n",
    "plt.show()"
   ]
  },
  {
   "cell_type": "code",
   "execution_count": null,
   "id": "d7df4408-3dd1-4c90-a677-0ee78422bd87",
   "metadata": {},
   "outputs": [],
   "source": []
  }
 ],
 "metadata": {
  "kernelspec": {
   "display_name": "Python 3 (ipykernel)",
   "language": "python",
   "name": "python3"
  },
  "language_info": {
   "codemirror_mode": {
    "name": "ipython",
    "version": 3
   },
   "file_extension": ".py",
   "mimetype": "text/x-python",
   "name": "python",
   "nbconvert_exporter": "python",
   "pygments_lexer": "ipython3",
   "version": "3.10.4"
  }
 },
 "nbformat": 4,
 "nbformat_minor": 5
}
