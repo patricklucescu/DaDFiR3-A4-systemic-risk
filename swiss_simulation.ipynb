{
 "cells": [
  {
   "cell_type": "code",
   "execution_count": 1,
   "id": "90194672-e113-4158-83a2-5d7446628e5c",
   "metadata": {},
   "outputs": [],
   "source": [
    "import copy\n",
    "import time\n",
    "import itertools\n",
    "import matplotlib.pyplot as plt\n",
    "import numpy as np\n",
    "from abm.initialization import generate_random_entities, generate_new_entities\n",
    "from abm.essentials import merge_dict\n",
    "from abm.create_network_connections import create_network_connections\n",
    "from abm.logs import LogMessage\n",
    "from abm.calibration import get_calibration_variables\n",
    "from abm.markov_model import MarkovModel\n",
    "from abm.clear_firm_default import clear_firm_default\n",
    "from abm.clear_interbank_market import clear_interbank_market"
   ]
  },
  {
   "cell_type": "code",
   "execution_count": 2,
   "id": "bba2b1db-47f1-42f3-a80a-ad49f8e4b549",
   "metadata": {},
   "outputs": [],
   "source": [
    "# get calibration variables for initialization and markov model\n",
    "calibration_variables = get_calibration_variables()\n",
    "calibration_variables['naked_cds_prob'] = 0.3\n",
    "# assign variables for initialization\n",
    "FIRMS = calibration_variables['FIRMS']\n",
    "T = calibration_variables['T']\n",
    "covered_cds_prob = calibration_variables['covered_cds_prob']\n",
    "naked_cds_prob = calibration_variables['naked_cds_prob']\n",
    "markov_model_states = calibration_variables['markov_model_states']\n",
    "\n",
    "# generate firms and banks\n",
    "firms_idx = [f'firm_{x}' for x in range(1, FIRMS + 1)]\n",
    "firms, banks, base_agent, base_firm, base_bank = generate_random_entities(firms_idx, calibration_variables)\n",
    "\n",
    "# generate the probabilities\n",
    "#base_agent.change_bank_probabilities(banks)\n",
    "# This does not seem to work that well\n",
    "\n",
    "# create the fake markov model that will say how the consumption goes\n",
    "starting_prob = [1, 0]\n",
    "states = {0: 'good', 1: 'bad'}\n",
    "transition_matrix = np.array([[0.7, 0.3], [0.8, 0.2]])\n",
    "economy_state = MarkovModel(starting_prob=starting_prob,\n",
    "                            transition_matrix=transition_matrix,\n",
    "                            states=states)\n",
    "\n",
    "\n",
    "# create logs and initialize historic values\n",
    "logs = []\n",
    "historic_data = {}\n"
   ]
  },
  {
   "cell_type": "code",
   "execution_count": 3,
   "id": "5eeb7af9-6215-4362-be74-3194785a470a",
   "metadata": {
    "tags": []
   },
   "outputs": [
    {
     "name": "stdout",
     "output_type": "stream",
     "text": [
      "Period 0: Compute expected supply and price\n",
      "Period 0: Create network connections\n",
      "Period 0: Get defaulting firms\n",
      "2039\n",
      "Period 0: Get defaulting banks\n",
      "0\n"
     ]
    }
   ],
   "source": [
    "# begin the simulation part\n",
    "for t in range(T):\n",
    "    start = time.time()\n",
    "    # store the equity of banks\n",
    "    prior_period_equity = {i: banks[i].equity for i in banks.keys()}\n",
    "\n",
    "    # set the state of the markov model\n",
    "    economy_state.set_current_state(markov_model_states[t])\n",
    "\n",
    "    # for each firm compute expected supply and see who wants loans\n",
    "    print(f\"Period {t}: Compute expected supply and price\")\n",
    "    for firm_id in firms.keys():\n",
    "        firms[firm_id].compute_expected_supply_and_prices()\n",
    "        firms[firm_id].check_loan_desire_and_choose_loans()\n",
    "\n",
    "    for bank_id in banks.keys():\n",
    "        banks[bank_id].prev_equity = banks[bank_id].equity\n",
    "\n",
    "    # iterate through banks and see which ones accept the loans\n",
    "    loan_requests = merge_dict(\n",
    "        list(itertools.chain(*[[{loan.lender: loan} for loan in firms[firm_id].potential_lenders]\n",
    "                               for firm_id in firms.keys()])))\n",
    "    loan_offers = []\n",
    "    for bank_id in banks.keys():\n",
    "        banks[bank_id].update_current_deposits()\n",
    "        banks[bank_id].update_max_credit()\n",
    "        loan_offers += banks[bank_id].asses_loan_requests(loan_requests.get(bank_id, []))\n",
    "    loan_offers = merge_dict([{loan.borrower: loan} for loan in loan_offers])\n",
    "    loan_offers = {firm_id: sorted(loan_offers[firm_id], key=lambda y: y.interest_rate) for firm_id in loan_offers}\n",
    "\n",
    "    # start the network allocation of loans and cds\n",
    "    print(f\"Period {t}: Create network connections\")\n",
    "    firms, banks, interbank_contracts, logs, period_t_transactions = create_network_connections(loan_offers,\n",
    "                                                                                                banks,\n",
    "                                                                                                firms,\n",
    "                                                                                                logs,\n",
    "                                                                                                base_agent.bank_ids,\n",
    "                                                                                                calibration_variables[\n",
    "                                                                                                    'covered_cds_prob'],\n",
    "                                                                                                calibration_variables[\n",
    "                                                                                                    'naked_cds_prob'],\n",
    "                                                                                                t,\n",
    "                                                                                                calibration_variables[\n",
    "                                                                                                    'cds_fractional'])\n",
    "    \n",
    "    ler_simulation_data = [sum([x.notional_amount for x in bank.assets['loans']]) / bank.equity for bank in banks.values()]\n",
    "    ler_empirical_data = [bank.gross_loans / bank.equity for bank in banks.values()]\n",
    "    \n",
    "    # compute market price\n",
    "    base_firm.change_market_price(np.median([firm.price for _, firm in firms.items()]))\n",
    "\n",
    "    # Figure out firm default and update CDS recovery rate accordingly\n",
    "    print(f\"Period {t}: Get defaulting firms\")\n",
    "    firms, banks, defaulted_firms = clear_firm_default(firms,\n",
    "                                                       banks,\n",
    "                                                       economy_state,\n",
    "                                                       calibration_variables['good_consumption'],\n",
    "                                                       calibration_variables['good_consumption_std'],\n",
    "                                                       calibration_variables['min_consumption'],\n",
    "                                                       calibration_variables['max_consumption'],\n",
    "                                                       calibration_variables['firm_equity_scaling'])\n",
    "\n",
    "    print(len(defaulted_firms))\n",
    "    # do deposit change\n",
    "    for bank_id in base_agent.bank_ids:\n",
    "        rv = np.random.normal(calibration_variables['mu_deposit_growth'],\n",
    "                              calibration_variables['std_deposit_growth']) / 100\n",
    "        banks[bank_id].deposit_change = rv * banks[bank_id].deposits\n",
    "        banks[bank_id].deposits += banks[bank_id].deposit_change\n",
    "        # TODO: adjust the deposit variable\n",
    "\n",
    "    # now figure out the banks network payments\n",
    "    print(f\"Period {t}: Get defaulting banks\")\n",
    "    banks, defaulted_banks = clear_interbank_market(banks,\n",
    "                                                    firms,\n",
    "                                                    base_agent.bank_ids,\n",
    "                                                    interbank_contracts,\n",
    "                                                    defaulted_firms)\n",
    "\n",
    "    print(len(defaulted_banks))\n",
    "\n",
    "    # store the equity of banks\n",
    "    post_period_equity = {i: banks[i].equity for i in banks.keys()}\n",
    "\n",
    "\n",
    "    # add logs for default\n",
    "    for firm_id in defaulted_firms:\n",
    "        logs.append(LogMessage(\n",
    "            message=f'Firm {firm_id} has defaulted.',\n",
    "            time=t,\n",
    "            data=copy.deepcopy(firms[firm_id])\n",
    "        ))\n",
    "    for bank_id in defaulted_banks:\n",
    "        logs.append(LogMessage(\n",
    "            message=f'Bank {bank_id} has defaulted.',\n",
    "            time=t,\n",
    "            data=copy.deepcopy(banks[bank_id])\n",
    "        ))"
   ]
  },
  {
   "cell_type": "code",
   "execution_count": 4,
   "id": "8cf77990-b4c5-4ced-b3de-e2b02c663b89",
   "metadata": {
    "tags": []
   },
   "outputs": [],
   "source": [
    "equity_changes = dict()\n",
    "for id in prior_period_equity:\n",
    "    equity_changes[id] = (post_period_equity[id] - prior_period_equity[id]) / prior_period_equity[id]"
   ]
  },
  {
   "cell_type": "code",
   "execution_count": 9,
   "id": "d2c350a9-5346-441f-9732-5f455638ae9a",
   "metadata": {
    "tags": []
   },
   "outputs": [
    {
     "data": {
      "image/png": "[encoded data removed]",
      "text/plain": [
       "<Figure size 640x480 with 1 Axes>"
      ]
     },
     "metadata": {},
     "output_type": "display_data"
    }
   ],
   "source": [
    "plt.figure()\n",
    "plt.hist(equity_changes.values(), bins=40)\n",
    "plt.show()"
   ]
  },
  {
   "cell_type": "code",
   "execution_count": 5,
   "id": "5f4fb2c8-34e2-46ff-b4de-32d78895e426",
   "metadata": {
    "tags": []
   },
   "outputs": [
    {
     "data": {
      "image/png": "[encoded data removed]",
      "text/plain": [
       "<Figure size 640x480 with 1 Axes>"
      ]
     },
     "metadata": {},
     "output_type": "display_data"
    }
   ],
   "source": [
    "plt.figure()\n",
    "plt.hist(equity_changes.values(), bins=40)\n",
    "plt.show()"
   ]
  },
  {
   "cell_type": "code",
   "execution_count": null,
   "id": "da4faff7-1cf7-4c81-9250-613a478057a0",
   "metadata": {},
   "outputs": [],
   "source": []
  }
 ],
 "metadata": {
  "kernelspec": {
   "display_name": "Python 3 (ipykernel)",
   "language": "python",
   "name": "python3"
  },
  "language_info": {
   "codemirror_mode": {
    "name": "ipython",
    "version": 3
   },
   "file_extension": ".py",
   "mimetype": "text/x-python",
   "name": "python",
   "nbconvert_exporter": "python",
   "pygments_lexer": "ipython3",
   "version": "3.11.5"
  }
 },
 "nbformat": 4,
 "nbformat_minor": 5
}
