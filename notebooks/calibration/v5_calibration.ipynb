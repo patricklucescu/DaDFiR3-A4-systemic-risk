{
 "cells": [
  {
   "cell_type": "code",
   "execution_count": 1,
   "id": "975ca9a4-65a3-41b5-82ea-39454eb79a5d",
   "metadata": {},
   "outputs": [],
   "source": [
    "import os\n",
    "import git\n",
    "import sys\n",
    "\n",
    "git_repo = git.Repo(os.getcwd(), search_parent_directories=True)\n",
    "git_root = git_repo.git.rev_parse(\"--show-toplevel\")\n",
    "\n",
    "sys.path.append(git_root)\n",
    "\n",
    "from abm_vec.one_period_sim import run_sim\n",
    "from abm_vec.initialization import get_bank_data\n",
    "\n",
    "from scipy.optimize import minimize\n",
    "from scipy.stats import kstest\n",
    "import copy\n",
    "import seaborn as sns\n",
    "import matplotlib.pyplot as plt\n",
    "from abm_vec.essentials.util import get_git_root_directory\n",
    "import numpy as np\n",
    "import random\n",
    "from scipy import stats"
   ]
  },
  {
   "cell_type": "code",
   "execution_count": 2,
   "id": "948847be-ed24-41cf-a343-799c88d3e11c",
   "metadata": {},
   "outputs": [],
   "source": [
    "bank_data = get_bank_data()"
   ]
  },
  {
   "cell_type": "code",
   "execution_count": 3,
   "id": "db5cc9eb-80d0-45eb-a584-3bc07e83aced",
   "metadata": {},
   "outputs": [
    {
     "data": {
      "text/plain": [
       "80"
      ]
     },
     "execution_count": 3,
     "metadata": {},
     "output_type": "execute_result"
    }
   ],
   "source": [
    "len(bank_data['equity'])"
   ]
  },
  {
   "cell_type": "markdown",
   "id": "ad5eea00-1c24-4e37-a4b7-f5d6909b1bb2",
   "metadata": {},
   "source": [
    "# Minimize the KS distance first"
   ]
  },
  {
   "cell_type": "code",
   "execution_count": 4,
   "id": "0b83e7e2-bbab-476c-8a35-410a5b126606",
   "metadata": {},
   "outputs": [],
   "source": [
    "def fun(x):\n",
    "\n",
    "    param = {'firm_lb1': x[0],\n",
    "             'firm_lb2': x[1],\n",
    "             'firm_ub1': x[2],\n",
    "             'firm_ub2': x[3],\n",
    "             'firm_alpha1': x[4],\n",
    "             'firm_alpha2': x[5],\n",
    "             'firm_rho': x[6],\n",
    "             'min_productivity': x[7]}\n",
    "    results = run_sim(param, copy.deepcopy(bank_data), [1]) \n",
    "    empirical_le_ratio = results[0]['banks']['bank_loans'] / results[0]['banks']['bank_equity']\n",
    "    simulated_le_ratio = results[1]['banks']['bank_loans'] / results[0]['banks']['bank_equity']\n",
    "    max_diff = kstest(empirical_le_ratio, simulated_le_ratio, alternative='two-sided').statistic \n",
    "    return max_diff#np.average([(x-y)**2 for x,y in zip(empirical_le_ratio, simulated_le_ratio)])"
   ]
  },
  {
   "cell_type": "code",
   "execution_count": 5,
   "id": "78a5cf5e-741e-41a5-bc84-26b0dd248b55",
   "metadata": {},
   "outputs": [],
   "source": [
    "bounds = [(5 * 10 ** 5, 5 * 10 ** 6),\n",
    "          (10 ** 3, 10**4),\n",
    "          (5 * 10** 7, 30 * 10 ** 7),\n",
    "          (5 * 10 ** 5, 10 ** 7),\n",
    "          (0, 3),\n",
    "          (0, 3),\n",
    "          (0, 1) ,\n",
    "          (100, 1000)]#,\n",
    "          #(50, 2000)]\n",
    "\n",
    "initial_guess = [10**6, 7500, 15 * 10 ** 7, 0.7 * 10 ** 6, 1.6, 1.7, 0.9, 150]#, 820]\n",
    "\n",
    "\n",
    "result = minimize(fun, initial_guess, method='Nelder-Mead', bounds=bounds)"
   ]
  },
  {
   "cell_type": "code",
   "execution_count": 6,
   "id": "8d59da0b-57aa-4173-b944-9f5a62744dc6",
   "metadata": {},
   "outputs": [],
   "source": [
    "optimal_x = result.x"
   ]
  },
  {
   "cell_type": "code",
   "execution_count": 7,
   "id": "7c67f5bc-4c97-4c6f-b965-63b53843ea8c",
   "metadata": {},
   "outputs": [
    {
     "data": {
      "text/plain": [
       "array([9.87030029e+05, 7.81471252e+03, 1.51020813e+08, 6.98611450e+05,\n",
       "       1.66713867e+00, 1.66508484e+00, 9.37765503e-01, 1.40844727e+02])"
      ]
     },
     "execution_count": 7,
     "metadata": {},
     "output_type": "execute_result"
    }
   ],
   "source": [
    "optimal_x"
   ]
  },
  {
   "cell_type": "code",
   "execution_count": 4,
   "id": "71152365-1d8f-482f-bc63-22d1c3dc6545",
   "metadata": {},
   "outputs": [],
   "source": [
    "optimal_x = np.array([9.87030029e+05, 7.81471252e+03, 1.51020813e+08, 6.98611450e+05,\n",
    "       1.66713867e+00, 1.66508484e+00, 9.37765503e-01, 1.40844727e+02])"
   ]
  },
  {
   "cell_type": "code",
   "execution_count": 5,
   "id": "6416813c-a847-47dc-9064-73c65e122383",
   "metadata": {},
   "outputs": [
    {
     "ename": "NameError",
     "evalue": "name 'result' is not defined",
     "output_type": "error",
     "traceback": [
      "\u001b[0;31m---------------------------------------------------------------------------\u001b[0m",
      "\u001b[0;31mNameError\u001b[0m                                 Traceback (most recent call last)",
      "Cell \u001b[0;32mIn[5], line 1\u001b[0m\n\u001b[0;32m----> 1\u001b[0m \u001b[43mresult\u001b[49m\u001b[38;5;241m.\u001b[39mfun\n",
      "\u001b[0;31mNameError\u001b[0m: name 'result' is not defined"
     ]
    }
   ],
   "source": [
    "result.fun"
   ]
  },
  {
   "cell_type": "markdown",
   "id": "f48cb29b-4ebb-4f80-8622-61707c93b3b8",
   "metadata": {},
   "source": [
    "# Generate 1000 samples and apply the k-sample Anderson test"
   ]
  },
  {
   "cell_type": "code",
   "execution_count": 13,
   "id": "400086f3-00b8-434c-a418-0e15d5a59d48",
   "metadata": {},
   "outputs": [],
   "source": [
    "def fun(x):\n",
    "    param = {'firm_lb1': x[0],\n",
    "             'firm_lb2': x[1],\n",
    "             'firm_ub1': x[2],\n",
    "             'firm_ub2': x[3],\n",
    "             'firm_alpha1': x[4],\n",
    "             'firm_alpha2': x[5],\n",
    "             'firm_rho': x[6],\n",
    "             'min_productivity': x[7]}\n",
    "    random_seeds = random.sample(range(1, 100000), 1000)\n",
    "    results = run_sim(param, copy.deepcopy(bank_data), random_seeds) \n",
    "    empirical_le_ratio = [s[0]['banks']['bank_loans'] / s[0]['banks']['bank_equity'] for s in results]\n",
    "    simulated_le_ratio = [s[1]['banks']['bank_loans'] / s[0]['banks']['bank_equity'] for s in results]\n",
    "    return empirical_le_ratio, simulated_le_ratio"
   ]
  },
  {
   "cell_type": "code",
   "execution_count": 14,
   "id": "745dc309-6f5c-4599-ba17-f90f5baf5d60",
   "metadata": {},
   "outputs": [],
   "source": [
    "empirical_le_ratio, simulated_le_ratio = fun(optimal_x)"
   ]
  },
  {
   "cell_type": "code",
   "execution_count": 15,
   "id": "249ea54d-a17e-4f27-bf70-8dcfd32de254",
   "metadata": {},
   "outputs": [],
   "source": [
    "from scipy.stats import anderson_ksamp"
   ]
  },
  {
   "cell_type": "code",
   "execution_count": 16,
   "id": "6d7ab750-d454-46a7-9cfc-c0bf0fa78070",
   "metadata": {},
   "outputs": [
    {
     "name": "stderr",
     "output_type": "stream",
     "text": [
      "/tmp/ipykernel_17741/2577826661.py:1: UserWarning: p-value capped: true value larger than 0.25\n",
      "  res = anderson_ksamp(simulated_le_ratio)\n"
     ]
    }
   ],
   "source": [
    "res = anderson_ksamp(simulated_le_ratio)"
   ]
  },
  {
   "cell_type": "code",
   "execution_count": 17,
   "id": "8a10423f-cbfc-4ab6-a2dc-6a9e96d48241",
   "metadata": {},
   "outputs": [
    {
     "data": {
      "text/plain": [
       "0.25"
      ]
     },
     "execution_count": 17,
     "metadata": {},
     "output_type": "execute_result"
    }
   ],
   "source": [
    "res.pvalue"
   ]
  },
  {
   "cell_type": "code",
   "execution_count": 18,
   "id": "36f0b677-f6ed-42b0-8fd6-3a755df87e4c",
   "metadata": {},
   "outputs": [],
   "source": [
    "# KS independent"
   ]
  },
  {
   "cell_type": "code",
   "execution_count": 19,
   "id": "b0fc5776-0637-41ec-9508-1e965f820d66",
   "metadata": {},
   "outputs": [],
   "source": [
    "# ks test\n",
    "res = [kstest(empirical_le_ratio[0], r, alternative='two-sided').pvalue for r in simulated_le_ratio]"
   ]
  },
  {
   "cell_type": "code",
   "execution_count": 20,
   "id": "681f19fd-59ce-436e-a5f4-8df65a90073f",
   "metadata": {},
   "outputs": [
    {
     "data": {
      "image/png": "[encoded data removed]",
      "text/plain": [
       "<Figure size 640x480 with 1 Axes>"
      ]
     },
     "metadata": {},
     "output_type": "display_data"
    }
   ],
   "source": [
    "plt.hist(res, bins=50)\n",
    "plt.show()"
   ]
  },
  {
   "cell_type": "markdown",
   "id": "f6ccec49-bd2c-4737-beb8-8ae9385b4508",
   "metadata": {},
   "source": [
    "# Price optimization"
   ]
  },
  {
   "cell_type": "code",
   "execution_count": 8,
   "id": "8826ed41-3bd1-4779-b472-67ca9216aaea",
   "metadata": {},
   "outputs": [],
   "source": [
    "# all parameters at once\n",
    "x = np.array([9.87030029 * 10 ** 5, 7.81471252 * 10 ** 3, 1.51020813 * 10 ** 8, 6.98611450 * 10 ** 5,\n",
    "       1.66713867, 1.66508484e+00, 0.937765503, 1.40844727 * 10 ** 2])\n",
    "\n",
    "param = {'firm_lb1': x[0],\n",
    "         'firm_lb2': x[1],\n",
    "         'firm_ub1': x[2],\n",
    "         'firm_ub2': x[3],\n",
    "         'firm_alpha1': x[4],\n",
    "         'firm_alpha2': x[5],\n",
    "         'firm_rho': x[6],\n",
    "         'min_productivity': x[7],\n",
    "         'market_price': 600,\n",
    "         \"good_consumption\": [0.98, 0.94],\n",
    "         \"good_consumption_std\": [0.006, 0.006],\n",
    "         \"min_consumption\": 0.9,\n",
    "         \"max_consumption\": 1}\n",
    "#results = run_sim(param, copy.deepcopy(bank_data), [1]) "
   ]
  },
  {
   "cell_type": "code",
   "execution_count": 9,
   "id": "31ee12c2-a46d-4043-a9ab-503e22b7f7ba",
   "metadata": {},
   "outputs": [],
   "source": [
    "def update_param(param, new):\n",
    "    param_new = param.copy()\n",
    "    param_new.update(new)\n",
    "    return param_new"
   ]
  },
  {
   "cell_type": "code",
   "execution_count": 10,
   "id": "07842f35-b199-4ddc-b034-aaa7e95be9d9",
   "metadata": {},
   "outputs": [],
   "source": [
    "min_prices_threshold = [run_sim(update_param(param, {'market_price': x}), copy.deepcopy(bank_data), [1])[1]['firms']['min_price_breach'] for x in np.linspace(100, 1000, 20)]"
   ]
  },
  {
   "cell_type": "code",
   "execution_count": 11,
   "id": "bae03d77-181d-474b-8e2e-cbac4b3b12b3",
   "metadata": {},
   "outputs": [
    {
     "data": {
      "image/png": "[encoded data removed]",
      "text/plain": [
       "<Figure size 640x480 with 1 Axes>"
      ]
     },
     "metadata": {},
     "output_type": "display_data"
    }
   ],
   "source": [
    "plt.plot(np.linspace(100, 1000, 20), min_prices_threshold)\n",
    "plt.show()"
   ]
  },
  {
   "cell_type": "code",
   "execution_count": null,
   "id": "d23bbe85-0538-4b6d-92a3-5c81c33b7713",
   "metadata": {},
   "outputs": [],
   "source": []
  },
  {
   "cell_type": "code",
   "execution_count": 198,
   "id": "a85c154d-e9cd-4d4b-86c7-f866d334bf7e",
   "metadata": {},
   "outputs": [],
   "source": [
    "param = {'firm_lb1': x[0],\n",
    "         'firm_lb2': x[1],\n",
    "         'firm_ub1': x[2],\n",
    "         'firm_ub2': x[3],\n",
    "         'firm_alpha1': x[4],\n",
    "         'firm_alpha2': x[5],\n",
    "         'firm_rho': x[6],\n",
    "         'min_productivity': x[7],\n",
    "         'market_price': 600,\n",
    "         \"good_consumption\": [0.88, 0.83],\n",
    "         \"good_consumption_std\": [0.01, 0.01],\n",
    "         \"min_consumption\": 0.7,\n",
    "         \"max_consumption\": 1}\n",
    "results = run_sim(param, copy.deepcopy(bank_data), [1]) "
   ]
  },
  {
   "cell_type": "code",
   "execution_count": 202,
   "id": "a00ea18e-ead7-44c2-b3e9-4f28f9c10144",
   "metadata": {},
   "outputs": [
    {
     "ename": "KeyError",
     "evalue": "'firms'",
     "output_type": "error",
     "traceback": [
      "\u001b[0;31m---------------------------------------------------------------------------\u001b[0m",
      "\u001b[0;31mKeyError\u001b[0m                                  Traceback (most recent call last)",
      "Cell \u001b[0;32mIn[202], line 1\u001b[0m\n\u001b[0;32m----> 1\u001b[0m \u001b[38;5;28mlen\u001b[39m([x \u001b[38;5;28;01mfor\u001b[39;00m x \u001b[38;5;129;01min\u001b[39;00m \u001b[43mresults\u001b[49m\u001b[43m[\u001b[49m\u001b[38;5;241;43m1\u001b[39;49m\u001b[43m]\u001b[49m\u001b[43m[\u001b[49m\u001b[38;5;124;43m\"\u001b[39;49m\u001b[38;5;124;43mfirms\u001b[39;49m\u001b[38;5;124;43m\"\u001b[39;49m\u001b[43m]\u001b[49m[\u001b[38;5;124m\"\u001b[39m\u001b[38;5;124mfirm_credit_demand\u001b[39m\u001b[38;5;124m\"\u001b[39m] \u001b[38;5;28;01mif\u001b[39;00m x\u001b[38;5;241m>\u001b[39m\u001b[38;5;241m0\u001b[39m])\n",
      "\u001b[0;31mKeyError\u001b[0m: 'firms'"
     ]
    }
   ],
   "source": [
    "len([x for x in results[1][\"firms\"][\"firm_credit_demand\"] if x>0])"
   ]
  },
  {
   "cell_type": "code",
   "execution_count": 200,
   "id": "6c6d3162-8971-4f6b-9ffa-7b07653d0b2f",
   "metadata": {},
   "outputs": [
    {
     "data": {
      "text/plain": [
       "201"
      ]
     },
     "execution_count": 200,
     "metadata": {},
     "output_type": "execute_result"
    }
   ],
   "source": [
    "len(results[1]['firms']['defaulting_firms'])"
   ]
  },
  {
   "cell_type": "code",
   "execution_count": 186,
   "id": "b3fb0b6f-8a1e-4bb9-903b-4d240933b634",
   "metadata": {},
   "outputs": [
    {
     "data": {
      "text/plain": [
       "0"
      ]
     },
     "execution_count": 186,
     "metadata": {},
     "output_type": "execute_result"
    }
   ],
   "source": [
    "len(results[1]['banks']['defaulted_banks'])"
   ]
  },
  {
   "cell_type": "code",
   "execution_count": 187,
   "id": "490d1971-7a51-4abf-bf6c-886a47ffc79c",
   "metadata": {},
   "outputs": [
    {
     "data": {
      "text/plain": [
       "0.7493509087277811"
      ]
     },
     "execution_count": 187,
     "metadata": {},
     "output_type": "execute_result"
    }
   ],
   "source": [
    "results[1]['firms']['min_price_breach']"
   ]
  },
  {
   "cell_type": "code",
   "execution_count": 188,
   "id": "13c1f752-74eb-478e-81cb-a939392b04e0",
   "metadata": {},
   "outputs": [
    {
     "data": {
      "text/plain": [
       "(array([  11.,   41.,  301., 1127., 2453., 2821., 2090.,  932.,  200.,\n",
       "          24.]),\n",
       " array([575.4690685 , 580.0223154 , 584.57556231, 589.12880921,\n",
       "        593.68205611, 598.23530302, 602.78854992, 607.34179683,\n",
       "        611.89504373, 616.44829064, 621.00153754]),\n",
       " <BarContainer object of 10 artists>)"
      ]
     },
     "execution_count": 188,
     "metadata": {},
     "output_type": "execute_result"
    },
    {
     "data": {
      "image/png": "[encoded data removed]",
      "text/plain": [
       "<Figure size 640x480 with 1 Axes>"
      ]
     },
     "metadata": {},
     "output_type": "display_data"
    }
   ],
   "source": [
    "plt.hist(results[1]['firms']['firm_price'])\n",
    "plt.hist(results[0]['firms']['firm_price'])"
   ]
  },
  {
   "cell_type": "code",
   "execution_count": null,
   "id": "2c872f58-1705-4e79-bb09-3b445d15a963",
   "metadata": {},
   "outputs": [],
   "source": []
  },
  {
   "cell_type": "code",
   "execution_count": null,
   "id": "abed1781-20af-4d25-b3bb-f36a4d1f4f03",
   "metadata": {},
   "outputs": [],
   "source": []
  },
  {
   "cell_type": "code",
   "execution_count": null,
   "id": "5ec153b0-0646-4a95-a092-3c8ff3c14e4f",
   "metadata": {},
   "outputs": [],
   "source": []
  },
  {
   "cell_type": "code",
   "execution_count": null,
   "id": "0818de40-93be-4d94-bbcf-55a04b8afb8e",
   "metadata": {},
   "outputs": [],
   "source": []
  },
  {
   "cell_type": "code",
   "execution_count": null,
   "id": "726c16c8-24ce-450b-81ad-1d5a08881d57",
   "metadata": {},
   "outputs": [],
   "source": []
  },
  {
   "cell_type": "code",
   "execution_count": null,
   "id": "bb30032a-4761-4fde-9875-7e06a9821a62",
   "metadata": {},
   "outputs": [],
   "source": []
  },
  {
   "cell_type": "markdown",
   "id": "03a5cd74-b8b7-4b55-b4e6-127f27c9c115",
   "metadata": {},
   "source": [
    "# Multi simulation analysis"
   ]
  },
  {
   "cell_type": "code",
   "execution_count": 48,
   "id": "1875bb6d-a3f2-4f4a-a61c-7b12800e532f",
   "metadata": {},
   "outputs": [],
   "source": [
    "# all parameters at once\n",
    "x = np.array([9.87030029 * 10 ** 5, 7.81471252 * 10 ** 3, 1.51020813 * 10 ** 8, 6.98611450 * 10 ** 5,\n",
    "       1.66713867, 1.66508484e+00, 0.937765503, 1.40844727 * 10 ** 2])\n",
    "\n",
    "param = {'firm_lb1': x[0],\n",
    "         'firm_lb2': x[1],\n",
    "         'firm_ub1': x[2],\n",
    "         'firm_ub2': x[3],\n",
    "         'firm_alpha1': x[4],\n",
    "         'firm_alpha2': x[5],\n",
    "         'firm_rho': x[6],\n",
    "         'min_productivity': x[7],\n",
    "         'market_price': 600,\n",
    "         \"good_consumption\": [0.88, 0.83],\n",
    "         \"good_consumption_std\": [0.01, 0.01],\n",
    "         \"min_consumption\": 0.7,\n",
    "         \"max_consumption\": 1,\n",
    "         \"mu_deposit_growth\": -5,\n",
    "         \"std_deposit_growth\": 0.1}\n",
    "#param=None\n",
    "results = run_sim(param, copy.deepcopy(bank_data), random.sample(range(1, 100000), 1000)) "
   ]
  },
  {
   "cell_type": "code",
   "execution_count": 49,
   "id": "e1b345c6-a2d4-41e5-8ed4-71eebb817811",
   "metadata": {},
   "outputs": [
    {
     "data": {
      "text/plain": [
       "9999.46"
      ]
     },
     "execution_count": 49,
     "metadata": {},
     "output_type": "execute_result"
    }
   ],
   "source": [
    "np.average([len([y for y in x[1][\"firms\"][\"firm_credit_demand\"] if y>0]) for x in results])"
   ]
  },
  {
   "cell_type": "code",
   "execution_count": 50,
   "id": "95f19a9f-a7f8-4e0e-9d0d-78b88c431f28",
   "metadata": {},
   "outputs": [
    {
     "data": {
      "text/plain": [
       "(array([  9.,  33.,  98., 196., 279., 223., 113.,  38.,   7.,   4.]),\n",
       " array([0.72621902, 0.73038824, 0.73455746, 0.73872668, 0.7428959 ,\n",
       "        0.74706511, 0.75123433, 0.75540355, 0.75957277, 0.76374198,\n",
       "        0.7679112 ]),\n",
       " <BarContainer object of 10 artists>)"
      ]
     },
     "execution_count": 50,
     "metadata": {},
     "output_type": "execute_result"
    },
    {
     "data": {
      "image/png": "[encoded data removed]",
      "text/plain": [
       "<Figure size 640x480 with 1 Axes>"
      ]
     },
     "metadata": {},
     "output_type": "display_data"
    }
   ],
   "source": [
    "plt.hist([x[1]['firms']['min_price_breach'] for x in results])"
   ]
  },
  {
   "cell_type": "code",
   "execution_count": 51,
   "id": "af82944b-b913-471e-81de-6a9cbb3c5691",
   "metadata": {},
   "outputs": [
    {
     "data": {
      "text/plain": [
       "(array([  25.,  142.,  624., 1629., 2653., 2518., 1577.,  648.,  155.,\n",
       "          29.]),\n",
       " array([579.00016222, 583.18832299, 587.37648376, 591.56464452,\n",
       "        595.75280529, 599.94096606, 604.12912682, 608.31728759,\n",
       "        612.50544836, 616.69360912, 620.88176989]),\n",
       " <BarContainer object of 10 artists>)"
      ]
     },
     "execution_count": 51,
     "metadata": {},
     "output_type": "execute_result"
    },
    {
     "data": {
      "image/png": "[encoded data removed]",
      "text/plain": [
       "<Figure size 640x480 with 1 Axes>"
      ]
     },
     "metadata": {},
     "output_type": "display_data"
    }
   ],
   "source": [
    "plt.hist(results[10][1]['firms']['firm_price'])\n",
    "plt.hist(results[10][0]['firms']['firm_price'])"
   ]
  },
  {
   "cell_type": "code",
   "execution_count": 52,
   "id": "8bfaf5b6-7e6e-4722-b74a-58e19c6f1e2c",
   "metadata": {},
   "outputs": [
    {
     "data": {
      "text/plain": [
       "(array([  9.,  34.,  83., 175., 267., 214., 133.,  64.,  17.,   4.]),\n",
       " array([1287. , 1309.2, 1331.4, 1353.6, 1375.8, 1398. , 1420.2, 1442.4,\n",
       "        1464.6, 1486.8, 1509. ]),\n",
       " <BarContainer object of 10 artists>)"
      ]
     },
     "execution_count": 52,
     "metadata": {},
     "output_type": "execute_result"
    },
    {
     "data": {
      "image/png": "[encoded data removed]",
      "text/plain": [
       "<Figure size 640x480 with 1 Axes>"
      ]
     },
     "metadata": {},
     "output_type": "display_data"
    }
   ],
   "source": [
    "plt.hist([len(x[1]['firms']['defaulting_firms']) for x in results])"
   ]
  },
  {
   "cell_type": "code",
   "execution_count": 53,
   "id": "871f4b7d-8d1b-4c49-8891-2f68ad66e232",
   "metadata": {},
   "outputs": [
    {
     "data": {
      "text/plain": [
       "(array([788.,   0.,   0.,   0.,   0., 195.,   0.,   0.,   0.,  17.]),\n",
       " array([0. , 0.2, 0.4, 0.6, 0.8, 1. , 1.2, 1.4, 1.6, 1.8, 2. ]),\n",
       " <BarContainer object of 10 artists>)"
      ]
     },
     "execution_count": 53,
     "metadata": {},
     "output_type": "execute_result"
    },
    {
     "data": {
      "image/png": "[encoded data removed]",
      "text/plain": [
       "<Figure size 640x480 with 1 Axes>"
      ]
     },
     "metadata": {},
     "output_type": "display_data"
    }
   ],
   "source": [
    "plt.hist([len(x[1]['banks']['defaulted_banks']) for x in results])"
   ]
  },
  {
   "cell_type": "code",
   "execution_count": null,
   "id": "112114ab-395b-418a-a2cd-cf1bcb55e2ee",
   "metadata": {},
   "outputs": [],
   "source": []
  }
 ],
 "metadata": {
  "kernelspec": {
   "display_name": "Python 3 (ipykernel)",
   "language": "python",
   "name": "python3"
  },
  "language_info": {
   "codemirror_mode": {
    "name": "ipython",
    "version": 3
   },
   "file_extension": ".py",
   "mimetype": "text/x-python",
   "name": "python",
   "nbconvert_exporter": "python",
   "pygments_lexer": "ipython3",
   "version": "3.11.5"
  }
 },
 "nbformat": 4,
 "nbformat_minor": 5
}
