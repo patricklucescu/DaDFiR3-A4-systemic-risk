{
 "cells": [
  {
   "cell_type": "code",
   "execution_count": 2,
   "id": "7aee62dd-5f74-4a34-8549-63c76b358ba3",
   "metadata": {},
   "outputs": [],
   "source": [
    "import os\n",
    "import git\n",
    "import sys\n",
    "\n",
    "git_repo = git.Repo(os.getcwd(), search_parent_directories=True)\n",
    "git_root = git_repo.git.rev_parse(\"--show-toplevel\")\n",
    "\n",
    "sys.path.append(git_root)\n",
    "\n",
    "from abm_vec.one_period_sim import run_sim, run_one_sim\n",
    "from abm_vec.calibration import get_calibration_variables\n",
    "from abm_vec.initialization import get_bank_data\n",
    "\n",
    "from scipy.optimize import minimize\n",
    "from scipy.stats import kstest\n",
    "import copy\n",
    "import seaborn as sns\n",
    "import matplotlib.pyplot as plt\n",
    "from abm_vec.essentials.util import get_git_root_directory\n",
    "import numpy as np\n",
    "import random\n",
    "from scipy import stats"
   ]
  },
  {
   "cell_type": "code",
   "execution_count": 12,
   "id": "826b8d20-5be6-4dbd-aa87-0e1a9d1c3223",
   "metadata": {},
   "outputs": [],
   "source": [
    "def eq_change(res):\n",
    "    prior_equity = res[0]['banks']['bank_equity']\n",
    "    post_equity = res[1]['banks']['bank_equity']\n",
    "    return  (post_equity - prior_equity)/prior_equity"
   ]
  },
  {
   "cell_type": "code",
   "execution_count": 3,
   "id": "89ca8af2-7442-47c4-8f14-ff2b2b0a6552",
   "metadata": {},
   "outputs": [],
   "source": [
    "bank_data = get_bank_data()\n",
    "calibration_variables = get_calibration_variables()"
   ]
  },
  {
   "cell_type": "markdown",
   "id": "c791e7be-058f-42a2-9622-6c3b9bd41bed",
   "metadata": {},
   "source": [
    "### Check current parameters"
   ]
  },
  {
   "cell_type": "code",
   "execution_count": 5,
   "id": "9a6317b1-9620-48e3-a26c-5fd602f8e98b",
   "metadata": {},
   "outputs": [],
   "source": [
    "results = run_one_sim(1, bank_data, calibration_variables)"
   ]
  },
  {
   "cell_type": "code",
   "execution_count": 7,
   "id": "0af32996-6e09-4c1d-8e28-dc6f4bc856b6",
   "metadata": {},
   "outputs": [],
   "source": [
    "empirical_le_ratio = results[0]['banks']['bank_loans'] / results[0]['banks']['bank_equity']\n",
    "simulated_le_ratio = results[1]['banks']['bank_loans'] / results[0]['banks']['bank_equity']"
   ]
  },
  {
   "cell_type": "code",
   "execution_count": 9,
   "id": "0cb70f24-763c-4d83-b75e-50d570ace6b3",
   "metadata": {},
   "outputs": [
    {
     "data": {
      "text/plain": [
       "(array([7., 1., 1., 1., 4., 6., 2., 0., 6., 2., 4., 1., 3., 4., 3., 5., 2.,\n",
       "        1., 4., 2., 1., 2., 1., 0., 4., 0., 0., 0., 2., 1., 2., 1., 1., 0.,\n",
       "        1., 2., 0., 0., 0., 0., 0., 0., 1., 0., 0., 1., 0., 0., 0., 1.]),\n",
       " array([0.        , 0.0810311 , 0.1620622 , 0.2430933 , 0.32412439,\n",
       "        0.40515549, 0.48618659, 0.56721769, 0.64824879, 0.72927989,\n",
       "        0.81031098, 0.89134208, 0.97237318, 1.05340428, 1.13443538,\n",
       "        1.21546648, 1.29649757, 1.37752867, 1.45855977, 1.53959087,\n",
       "        1.62062197, 1.70165307, 1.78268416, 1.86371526, 1.94474636,\n",
       "        2.02577746, 2.10680856, 2.18783966, 2.26887076, 2.34990185,\n",
       "        2.43093295, 2.51196405, 2.59299515, 2.67402625, 2.75505735,\n",
       "        2.83608844, 2.91711954, 2.99815064, 3.07918174, 3.16021284,\n",
       "        3.24124394, 3.32227503, 3.40330613, 3.48433723, 3.56536833,\n",
       "        3.64639943, 3.72743053, 3.80846163, 3.88949272, 3.97052382,\n",
       "        4.05155492]),\n",
       " <BarContainer object of 50 artists>)"
      ]
     },
     "execution_count": 9,
     "metadata": {},
     "output_type": "execute_result"
    },
    {
     "data": {
      "image/png": "[encoded data removed]",
      "text/plain": [
       "<Figure size 640x480 with 1 Axes>"
      ]
     },
     "metadata": {},
     "output_type": "display_data"
    }
   ],
   "source": [
    "plt.hist(empirical_le_ratio,bins=50)\n",
    "plt.hist(simulated_le_ratio,bins=50)"
   ]
  },
  {
   "cell_type": "code",
   "execution_count": 10,
   "id": "6d8369e1-a8f8-4a37-9045-b2a848b5df20",
   "metadata": {},
   "outputs": [],
   "source": [
    "results_1 = run_one_sim(1, bank_data, calibration_variables)\n",
    "results_25 = run_one_sim(25, bank_data, calibration_variables)"
   ]
  },
  {
   "cell_type": "code",
   "execution_count": 13,
   "id": "1bd0e6c6-e068-4cc9-852d-30146d294923",
   "metadata": {},
   "outputs": [],
   "source": [
    "eq_1 = eq_change(results_1)\n",
    "eq_25 = eq_change(results_25)"
   ]
  },
  {
   "cell_type": "code",
   "execution_count": 17,
   "id": "8099d3fa-e220-4467-b155-cbab3a154981",
   "metadata": {},
   "outputs": [
    {
     "data": {
      "text/plain": [
       "(array([ 1.,  0.,  0.,  1.,  0.,  0.,  0.,  0.,  0.,  0.,  0.,  0.,  0.,\n",
       "         1.,  0., 15., 11., 10., 12., 16.,  2.,  4.,  2.,  2.,  3.]),\n",
       " array([-0.09031165, -0.08449972, -0.0786878 , -0.07287588, -0.06706396,\n",
       "        -0.06125204, -0.05544012, -0.04962819, -0.04381627, -0.03800435,\n",
       "        -0.03219243, -0.02638051, -0.02056859, -0.01475666, -0.00894474,\n",
       "        -0.00313282,  0.0026791 ,  0.00849102,  0.01430295,  0.02011487,\n",
       "         0.02592679,  0.03173871,  0.03755063,  0.04336255,  0.04917448,\n",
       "         0.0549864 ]),\n",
       " <BarContainer object of 25 artists>)"
      ]
     },
     "execution_count": 17,
     "metadata": {},
     "output_type": "execute_result"
    },
    {
     "data": {
      "image/png": "[encoded data removed]",
      "text/plain": [
       "<Figure size 640x480 with 1 Axes>"
      ]
     },
     "metadata": {},
     "output_type": "display_data"
    }
   ],
   "source": [
    "plt.hist(eq_1, bins=25)\n",
    "plt.hist(eq_25, bins=25)"
   ]
  },
  {
   "cell_type": "code",
   "execution_count": 21,
   "id": "03b64ede-eaf6-45d1-ace4-97b111326c86",
   "metadata": {},
   "outputs": [
    {
     "data": {
      "text/plain": [
       "0.01551589102164181"
      ]
     },
     "execution_count": 21,
     "metadata": {},
     "output_type": "execute_result"
    }
   ],
   "source": [
    "np.median(list(eq_25))"
   ]
  },
  {
   "cell_type": "code",
   "execution_count": 22,
   "id": "4eddcf31-afac-4cbe-8e52-41a15d5eadd4",
   "metadata": {},
   "outputs": [
    {
     "data": {
      "text/plain": [
       "0.017778585329132346"
      ]
     },
     "execution_count": 22,
     "metadata": {},
     "output_type": "execute_result"
    }
   ],
   "source": [
    "np.median(list(eq_1))"
   ]
  },
  {
   "cell_type": "code",
   "execution_count": null,
   "id": "9e83d104-e519-4581-9195-165e74e753b6",
   "metadata": {},
   "outputs": [],
   "source": []
  }
 ],
 "metadata": {
  "kernelspec": {
   "display_name": "Python 3 (ipykernel)",
   "language": "python",
   "name": "python3"
  },
  "language_info": {
   "codemirror_mode": {
    "name": "ipython",
    "version": 3
   },
   "file_extension": ".py",
   "mimetype": "text/x-python",
   "name": "python",
   "nbconvert_exporter": "python",
   "pygments_lexer": "ipython3",
   "version": "3.11.5"
  }
 },
 "nbformat": 4,
 "nbformat_minor": 5
}
