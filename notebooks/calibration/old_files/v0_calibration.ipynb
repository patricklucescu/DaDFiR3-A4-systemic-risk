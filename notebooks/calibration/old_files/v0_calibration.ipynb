{
 "cells": [
  {
   "cell_type": "code",
   "execution_count": 1,
   "id": "b3a6adaa-57b6-46f3-b7f3-b5de82514f2a",
   "metadata": {},
   "outputs": [],
   "source": [
    "import os\n",
    "import git\n",
    "import sys\n",
    "\n",
    "git_repo = git.Repo(os.getcwd(), search_parent_directories=True)\n",
    "git_root = git_repo.git.rev_parse(\"--show-toplevel\")\n",
    "\n",
    "sys.path.append(git_root)\n",
    "\n",
    "import numpy as np\n",
    "import random\n",
    "from abm_vec.calibration import get_calibration_variables\n",
    "from abm_vec.initialization import generate_random_entities\n",
    "from abm_vec.essentials import wages_adj, compute_expected_supply_price\n",
    "from abm_vec.firms import (\n",
    "    check_loan_desire_and_choose_loans,\n",
    "    get_non_zero_values_from_matrix,\n",
    "    shuffle_firms,\n",
    ")\n",
    "from abm_vec.banks import asses_loan_requests_firms\n",
    "from abm_vec.create_network_connections import create_network_connections\n",
    "from abm_vec.clear_firm_default import clear_firm_default\n",
    "from abm_vec.clear_interbank_market import clear_interbank_market"
   ]
  },
  {
   "cell_type": "code",
   "execution_count": 2,
   "id": "9899e350-093c-43d4-96ac-b352e6226985",
   "metadata": {},
   "outputs": [],
   "source": [
    "from scipy.stats import kstest"
   ]
  },
  {
   "cell_type": "code",
   "execution_count": 3,
   "id": "16bcd88f-b478-4cbe-8b58-d1050e34ae05",
   "metadata": {},
   "outputs": [],
   "source": [
    "def get_le_ratio(x):\n",
    "    seed_value = 0\n",
    "    random.seed(seed_value)\n",
    "    np.random.seed(seed_value)\n",
    "    # get calibration variables for initialization and markov model\n",
    "    calibration_variables = get_calibration_variables()\n",
    "    calibration_variables['firm_mu1'] = x[0]\n",
    "    calibration_variables['firm_mu2'] = x[1]\n",
    "    calibration_variables['firm_sigma1'] = x[2]\n",
    "    calibration_variables['firm_sigma2'] = x[3]\n",
    "    calibration_variables['firm_xi1'] = x[4]\n",
    "    calibration_variables['firm_xi2'] = x[5]\n",
    "    calibration_variables['firm_rho'] = x[6]\n",
    "    \n",
    "    (\n",
    "    bank_equity,\n",
    "    bank_deposits,\n",
    "    bank_loans,\n",
    "    bank_t1_cap,\n",
    "    firm_equity,\n",
    "    firm_prod,\n",
    "    firm_ex_supply,\n",
    "    firm_wage,\n",
    "    firm_pd,\n",
    "    firm_supply,\n",
    "    firm_profit,\n",
    "    firm_price,\n",
    "    firm_max_leverage) = generate_random_entities(calibration_variables)\n",
    "\n",
    "    num_firms = len(firm_price)\n",
    "    num_banks = len(bank_loans)\n",
    "\n",
    "    t = 0\n",
    "\n",
    "    (\n",
    "        firm_equity,\n",
    "        firm_prod,\n",
    "        firm_ex_supply,\n",
    "        firm_wage,\n",
    "        firm_pd,\n",
    "        firm_supply,\n",
    "        firm_profit,\n",
    "        firm_price,\n",
    "        firm_max_leverage,\n",
    "    ) = shuffle_firms(\n",
    "        num_firms,\n",
    "        firm_equity,\n",
    "        firm_prod,\n",
    "        firm_ex_supply,\n",
    "        firm_wage,\n",
    "        firm_pd,\n",
    "        firm_supply,\n",
    "        firm_profit,\n",
    "        firm_price,\n",
    "        firm_max_leverage,\n",
    "    )\n",
    "\n",
    "    # for each firm compute expected supply and see who wants loans\n",
    "    firm_wage = wages_adj(firm_wage, calibration_variables[\"min_wage\"])\n",
    "    firm_price, firm_supply, firm_total_wage = compute_expected_supply_price(\n",
    "        firm_ex_supply,\n",
    "        firm_supply,\n",
    "        firm_price,\n",
    "        calibration_variables[\"market_price\"],\n",
    "        firm_wage,\n",
    "        firm_prod,\n",
    "        calibration_variables[\"firm_init_excess_supply_prob\"],\n",
    "        firm_profit,\n",
    "        firm_max_leverage,\n",
    "        firm_equity,\n",
    "    )\n",
    "\n",
    "    firm_credit_demand = np.maximum(0, firm_total_wage - firm_equity)\n",
    "    firm_financial_fragility = firm_credit_demand / firm_equity\n",
    "    loan_indicator = check_loan_desire_and_choose_loans(\n",
    "        firm_credit_demand, num_firms, num_banks, calibration_variables[\"max_bank_loan\"]\n",
    "    )\n",
    "\n",
    "    # let bank give interest rates\n",
    "    bank_current_deposit = bank_deposits.copy()\n",
    "    bank_max_credit = bank_deposits / calibration_variables[\"capital_req\"]\n",
    "    firm_interest = asses_loan_requests_firms(\n",
    "        loan_indicator,\n",
    "        firm_credit_demand,\n",
    "        bank_max_credit,\n",
    "        firm_pd,\n",
    "        firm_financial_fragility,\n",
    "        calibration_variables[\"policy_rate\"],\n",
    "        calibration_variables[\"h_theta\"],\n",
    "    )\n",
    "\n",
    "    # get loans by firm\n",
    "    loans_by_firm = get_non_zero_values_from_matrix(firm_interest)\n",
    "\n",
    "    # compute network connections\n",
    "    #notice that we do not have any interbank loans. Probably because there are too many deposits in relation to loan demand\n",
    "    (loan_firms_interest,\n",
    "     loan_firms_amount,\n",
    "     loan_banks_interest,\n",
    "     loan_banks_amount,\n",
    "     cds_amount,\n",
    "     cds_spread,\n",
    "     cds_spread_amount,\n",
    "     bank_current_deposit,\n",
    "     firm_equity,\n",
    "     cds_dict,\n",
    "     bank_loan_asset\n",
    "     ) = create_network_connections(loans_by_firm,\n",
    "                                    calibration_variables,\n",
    "                                    num_firms,\n",
    "                                    num_banks,\n",
    "                                    firm_credit_demand,\n",
    "                                    bank_max_credit,\n",
    "                                    bank_deposits,\n",
    "                                    bank_current_deposit,\n",
    "                                    firm_equity,\n",
    "                                    firm_pd,\n",
    "                                    bank_equity)\n",
    "\n",
    "    empirical_le_ratio = bank_loans / bank_equity\n",
    "    simulated_le_ratio = bank_loan_asset / bank_equity\n",
    "    return kstest(empirical_le_ratio, simulated_le_ratio, alternative='two-sided').pvalue #, empirical_le_ratio, simulated_le_ratio"
   ]
  },
  {
   "cell_type": "code",
   "execution_count": 4,
   "id": "e0b974f5-1b87-442a-82b5-eb622f897cab",
   "metadata": {},
   "outputs": [],
   "source": [
    "def fun_min(x):\n",
    "    return -get_le_ratio(x)"
   ]
  },
  {
   "cell_type": "code",
   "execution_count": 5,
   "id": "73b7167e-1191-45a6-ad02-e55cf2aaf3ba",
   "metadata": {},
   "outputs": [],
   "source": [
    "from scipy.optimize import differential_evolution\n",
    "from scipy.optimize import minimize"
   ]
  },
  {
   "cell_type": "code",
   "execution_count": 10,
   "id": "8d3ad50e-9f3a-4fa2-a174-023b1d2ad860",
   "metadata": {},
   "outputs": [],
   "source": [
    "bounds = [(10 ** 4, 10**6), (10 ** 5, 10**7), (0, 100), (0, 100), (-5, 5), (-5, 5), (0, 1)]\n",
    "initial_guess = [10 ** 5, 10 ** 6, 50, 50, 0.2, 0.2, 0.3]"
   ]
  },
  {
   "cell_type": "code",
   "execution_count": 11,
   "id": "fe0931ec-b5ce-4a17-88f2-042144ead2fa",
   "metadata": {},
   "outputs": [],
   "source": [
    "result = minimize(fun_min, initial_guess, method='Nelder-Mead', bounds=bounds)"
   ]
  },
  {
   "cell_type": "code",
   "execution_count": 12,
   "id": "75d29d8d-2f8c-42cc-8ef4-968695f7e76d",
   "metadata": {},
   "outputs": [
    {
     "data": {
      "text/plain": [
       "       message: Optimization terminated successfully.\n",
       "       success: True\n",
       "        status: 0\n",
       "           fun: -0.2424351142427097\n",
       "             x: [ 1.050e+05  1.000e+06  5.000e+01  5.000e+01  2.000e-01\n",
       "                  2.000e-01  3.000e-01]\n",
       "           nit: 41\n",
       "          nfev: 281\n",
       " final_simplex: (array([[ 1.050e+05,  1.000e+06, ...,  2.000e-01,\n",
       "                         3.000e-01],\n",
       "                       [ 1.050e+05,  1.000e+06, ...,  2.000e-01,\n",
       "                         3.000e-01],\n",
       "                       ...,\n",
       "                       [ 1.050e+05,  1.000e+06, ...,  2.000e-01,\n",
       "                         3.000e-01],\n",
       "                       [ 1.050e+05,  1.000e+06, ...,  2.000e-01,\n",
       "                         3.000e-01]]), array([-2.424e-01, -2.424e-01, -2.424e-01, -2.424e-01,\n",
       "                       -2.424e-01, -2.424e-01, -2.424e-01, -2.424e-01]))"
      ]
     },
     "execution_count": 12,
     "metadata": {},
     "output_type": "execute_result"
    }
   ],
   "source": [
    "result"
   ]
  },
  {
   "cell_type": "markdown",
   "id": "0f8b0f47-4b1d-4f3b-a8ad-4862244c1899",
   "metadata": {},
   "source": [
    "# q-q plot"
   ]
  },
  {
   "cell_type": "code",
   "execution_count": 13,
   "id": "73c2aa92-2c25-44be-b0b9-70f2d4f0834f",
   "metadata": {},
   "outputs": [],
   "source": [
    "import matplotlib.pyplot as plt\n",
    "from scipy import stats\n",
    "import openturns as ot"
   ]
  },
  {
   "cell_type": "code",
   "execution_count": 16,
   "id": "0bb5a019-38ac-44a5-915e-f90bb9e4dad1",
   "metadata": {},
   "outputs": [],
   "source": [
    "[mu1, mu2, sigma1, sigma2, xi1, xi2, rho] = [ 1.050e+05,  1.000e+06,  5.000e+01,  5.000e+01,  2.000e-01, 2.000e-01,  3.000e-01]\n",
    "x1 = ot.GeneralizedPareto(sigma1, xi1)\n",
    "x2 = ot.GeneralizedPareto(sigma2, xi2)\n",
    "R = ot.CorrelationMatrix(2)\n",
    "R[0, 1] = rho\n",
    "R[1, 0] = rho\n",
    "copula = ot.NormalCopula(R)\n",
    "dist = ot.ComposedDistribution([x1, x2], copula)\n",
    "sample = dist.getSample(10000)"
   ]
  },
  {
   "cell_type": "code",
   "execution_count": 21,
   "id": "e2f83656-4a13-4b20-8844-65a5e089711d",
   "metadata": {},
   "outputs": [
    {
     "data": {
      "image/png": "[encoded data removed]",
      "text/plain": [
       "<Figure size 640x480 with 1 Axes>"
      ]
     },
     "metadata": {},
     "output_type": "display_data"
    }
   ],
   "source": [
    "quantiles1 = np.array(sample[:, 0]).T[0]\n",
    "quantiles2 = np.array(sample[:, 1]).T[0]\n",
    "plt.scatter(quantiles1, quantiles2)\n",
    "plt.xlabel('Equity')\n",
    "plt.ylabel('Supply')\n",
    "plt.title('Q-Q Plot')\n",
    "plt.plot([quantiles1.min(), quantiles1.max()], [quantiles1.min(), quantiles1.max()], ls=\"--\", c=\".3\")\n",
    "plt.show()"
   ]
  },
  {
   "cell_type": "code",
   "execution_count": 52,
   "id": "5a39925e-15ef-4cca-ad0f-2ac4460aa43c",
   "metadata": {},
   "outputs": [
    {
     "data": {
      "image/png": "[encoded data removed]",
      "text/plain": [
       "<Figure size 640x480 with 1 Axes>"
      ]
     },
     "metadata": {},
     "output_type": "display_data"
    }
   ],
   "source": [
    "\n",
    "#a, empirical_le_ratio, simulated_le_ratio = get_le_ratio(x)\n",
    "\n",
    "# Compute quantiles\n",
    "quantiles1 = np.percentile(simulated_le_ratio, np.linspace(0, 100, 100))\n",
    "quantiles2 = np.percentile(empirical_le_ratio, np.linspace(0, 100, 100))\n",
    "\n",
    "plt.scatter(quantiles1, quantiles2)\n",
    "plt.xlabel('Simulated')\n",
    "plt.ylabel('Empirical')\n",
    "plt.title('Q-Q Plot')\n",
    "plt.plot([quantiles1.min(), quantiles1.max()], [quantiles1.min(), quantiles1.max()], ls=\"--\", c=\".3\")\n",
    "plt.show()"
   ]
  },
  {
   "cell_type": "code",
   "execution_count": null,
   "id": "1f77cab2-62ec-4fa3-bbe2-fb1a4f19adb8",
   "metadata": {},
   "outputs": [],
   "source": []
  },
  {
   "cell_type": "code",
   "execution_count": null,
   "id": "c403e021-7726-44c0-8d2c-039fb6946cf5",
   "metadata": {},
   "outputs": [],
   "source": []
  },
  {
   "cell_type": "code",
   "execution_count": null,
   "id": "17c83dc3-a321-4730-a796-d5a3bf45f496",
   "metadata": {},
   "outputs": [],
   "source": []
  },
  {
   "cell_type": "code",
   "execution_count": 7,
   "id": "cd5ea94a-d63c-40a9-89b4-ad26742b644e",
   "metadata": {},
   "outputs": [],
   "source": [
    "def fun_min(x):\n",
    "    return -get_le_ratio(x)"
   ]
  },
  {
   "cell_type": "code",
   "execution_count": 8,
   "id": "6d2c3a8c-2f2b-480a-8dc9-0d276ef79dce",
   "metadata": {},
   "outputs": [],
   "source": [
    "from scipy.optimize import differential_evolution\n",
    "from scipy.optimize import minimize"
   ]
  },
  {
   "cell_type": "code",
   "execution_count": 9,
   "id": "2dd73d35-31a4-469e-929d-cef8249e5126",
   "metadata": {},
   "outputs": [],
   "source": [
    "bounds = [(10 ** 5, 10**10), (10 ** 5, 10**20), (0, 5), (0, 5), (-5, 2), (-5, 2), (0, 1)]"
   ]
  },
  {
   "cell_type": "code",
   "execution_count": 10,
   "id": "844e4f55-98a8-4564-b77f-ddaa70c52a84",
   "metadata": {},
   "outputs": [],
   "source": [
    "initial_guess = [10 ** 6, 10 ** 6,0.1, 0.1, 0.2, 0.2, 0.5]"
   ]
  },
  {
   "cell_type": "code",
   "execution_count": null,
   "id": "4361f64d-6261-4c10-ae9e-d8920244fffc",
   "metadata": {},
   "outputs": [],
   "source": []
  },
  {
   "cell_type": "code",
   "execution_count": null,
   "id": "08173235-0abe-4790-99d3-ad6d4e97f664",
   "metadata": {},
   "outputs": [],
   "source": []
  },
  {
   "cell_type": "code",
   "execution_count": 11,
   "id": "8f7dbc18-8a5b-4988-b51a-6f17d5a54e25",
   "metadata": {
    "scrolled": true
   },
   "outputs": [],
   "source": [
    "result = minimize(fun_min, initial_guess, method='Powell', bounds=bounds)"
   ]
  },
  {
   "cell_type": "code",
   "execution_count": 12,
   "id": "35cb587e-5d1e-4db8-9547-3677278ede79",
   "metadata": {},
   "outputs": [
    {
     "data": {
      "text/plain": [
       " message: Optimization terminated successfully.\n",
       " success: True\n",
       "  status: 0\n",
       "     fun: -2.7638617227251404e-43\n",
       "       x: [ 1.000e+10  1.000e+20  5.000e+00  5.000e+00  2.000e+00\n",
       "            2.000e+00  9.999e-01]\n",
       "     nit: 1\n",
       "   direc: [[ 1.000e+00  0.000e+00 ...  0.000e+00  0.000e+00]\n",
       "           [ 0.000e+00  1.000e+00 ...  0.000e+00  0.000e+00]\n",
       "           ...\n",
       "           [ 0.000e+00  0.000e+00 ...  1.000e+00  0.000e+00]\n",
       "           [ 0.000e+00  0.000e+00 ...  0.000e+00  1.000e+00]]\n",
       "    nfev: 193"
      ]
     },
     "execution_count": 12,
     "metadata": {},
     "output_type": "execute_result"
    }
   ],
   "source": [
    "result"
   ]
  },
  {
   "cell_type": "code",
   "execution_count": 4,
   "id": "99fb5917-b4d7-4c91-b240-da25d62d242e",
   "metadata": {
    "tags": []
   },
   "outputs": [
    {
     "data": {
      "text/plain": [
       "131.4102564102564"
      ]
     },
     "execution_count": 4,
     "metadata": {},
     "output_type": "execute_result"
    }
   ],
   "source": [
    "(1+ 0.025) * 80000/624\n"
   ]
  },
  {
   "cell_type": "code",
   "execution_count": null,
   "id": "2c36545b-5666-49e1-907b-76fe630baf81",
   "metadata": {},
   "outputs": [],
   "source": []
  }
 ],
 "metadata": {
  "kernelspec": {
   "display_name": "Python 3 (ipykernel)",
   "language": "python",
   "name": "python3"
  },
  "language_info": {
   "codemirror_mode": {
    "name": "ipython",
    "version": 3
   },
   "file_extension": ".py",
   "mimetype": "text/x-python",
   "name": "python",
   "nbconvert_exporter": "python",
   "pygments_lexer": "ipython3",
   "version": "3.11.5"
  }
 },
 "nbformat": 4,
 "nbformat_minor": 5
}
