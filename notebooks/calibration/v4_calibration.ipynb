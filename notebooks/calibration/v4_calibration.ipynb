{
 "cells": [
  {
   "cell_type": "code",
   "execution_count": 7,
   "id": "ca664e8f-aee1-4214-8e6f-d84feb51d73a",
   "metadata": {},
   "outputs": [],
   "source": [
    "import os\n",
    "import git\n",
    "import sys\n",
    "from joblib import Parallel, delayed\n",
    "\n",
    "git_repo = git.Repo(os.getcwd(), search_parent_directories=True)\n",
    "git_root = git_repo.git.rev_parse(\"--show-toplevel\")\n",
    "\n",
    "sys.path.append(git_root)\n",
    "\n",
    "from abm_vec.abm_simulation import run_simulation\n",
    "from abm_vec.initialization import get_bank_data\n",
    "from scipy.optimize import minimize\n",
    "from scipy.stats import kstest\n",
    "import copy\n",
    "import seaborn as sns\n",
    "import matplotlib.pyplot as plt\n",
    "from abm_vec.essentials.util import get_git_root_directory\n",
    "import numpy as np\n",
    "import random\n",
    "from scipy import stats"
   ]
  },
  {
   "cell_type": "code",
   "execution_count": 8,
   "id": "15b59e54-a998-4d5b-a5e0-4fd4a268874b",
   "metadata": {},
   "outputs": [],
   "source": [
    "bank_data = get_bank_data()"
   ]
  },
  {
   "cell_type": "code",
   "execution_count": 9,
   "id": "6426d51d-927d-45ad-be33-d7517b918cc2",
   "metadata": {},
   "outputs": [
    {
     "data": {
      "text/plain": [
       "80"
      ]
     },
     "execution_count": 9,
     "metadata": {},
     "output_type": "execute_result"
    }
   ],
   "source": [
    "len(bank_data['equity'])"
   ]
  },
  {
   "cell_type": "markdown",
   "id": "191146ce-7d51-4ba3-bc1f-aa634c50ced3",
   "metadata": {},
   "source": [
    "# Minimize the KS distance first"
   ]
  },
  {
   "cell_type": "code",
   "execution_count": 10,
   "id": "c0caad85-2796-4880-841c-e8570a271075",
   "metadata": {},
   "outputs": [],
   "source": [
    "def fun(x):\n",
    "\n",
    "    param = {'firm_lb1': x[0],\n",
    "             'firm_lb2': x[1],\n",
    "             'firm_ub1': x[2],\n",
    "             'firm_ub2': x[3],\n",
    "             'firm_alpha1': x[4],\n",
    "             'firm_alpha2': x[5],\n",
    "             'firm_rho': x[6],\n",
    "             'min_productivity': x[7]}\n",
    "    results = run_simulation(1, copy.deepcopy(bank_data), param) \n",
    "    max_diff = kstest(results[0], results[1], alternative='two-sided').statistic \n",
    "    return max_diff"
   ]
  },
  {
   "cell_type": "code",
   "execution_count": 11,
   "id": "9a8135bb-3760-41ce-afc5-fa39c3e3b488",
   "metadata": {},
   "outputs": [],
   "source": [
    "bounds = [(5 * 10 ** 5, 5 * 10 ** 6),\n",
    "          (10 ** 3, 10**4),\n",
    "          (5 * 10** 7, 30 * 10 ** 7),\n",
    "          (5 * 10 ** 5, 10 ** 7),\n",
    "          (0, 3),\n",
    "          (0, 3),\n",
    "          (0, 1) ,\n",
    "          (100, 1000)]#,\n",
    "          #(50, 2000)]\n",
    "\n",
    "initial_guess = [10**6, 7500, 15 * 10 ** 7, 0.7 * 10 ** 6, 1.6, 1.7, 0.9, 150]#, 820]\n",
    "\n",
    "\n",
    "result = minimize(fun, initial_guess, method='Nelder-Mead', bounds=bounds)"
   ]
  },
  {
   "cell_type": "code",
   "execution_count": 12,
   "id": "6deaf883-c3b3-4781-973f-2a4fac252e9e",
   "metadata": {},
   "outputs": [],
   "source": [
    "optimal_x = result.x"
   ]
  },
  {
   "cell_type": "code",
   "execution_count": 13,
   "id": "797d6d31-4a86-4530-8c66-e917f3804086",
   "metadata": {},
   "outputs": [
    {
     "data": {
      "text/plain": [
       "array([9.87030029e+05, 7.81471252e+03, 1.51020813e+08, 6.98611450e+05,\n",
       "       1.66713867e+00, 1.66508484e+00, 9.37765503e-01, 1.40844727e+02])"
      ]
     },
     "execution_count": 13,
     "metadata": {},
     "output_type": "execute_result"
    }
   ],
   "source": [
    "optimal_x"
   ]
  },
  {
   "cell_type": "code",
   "execution_count": 14,
   "id": "b9351c32-8367-4593-ae7c-fb986cc29b60",
   "metadata": {},
   "outputs": [
    {
     "data": {
      "text/plain": [
       "0.1125"
      ]
     },
     "execution_count": 14,
     "metadata": {},
     "output_type": "execute_result"
    }
   ],
   "source": [
    "result.fun"
   ]
  },
  {
   "cell_type": "markdown",
   "id": "fc91f31e-a41c-4a07-b442-2e47d8c8b66c",
   "metadata": {},
   "source": [
    "# Generate 1000 samples and apply the k-sample Anderson test"
   ]
  },
  {
   "cell_type": "code",
   "execution_count": 15,
   "id": "e201d523-5ac4-431c-bff3-3ab10ac82b30",
   "metadata": {},
   "outputs": [],
   "source": [
    "def fun(seed=1, bank_data=None):\n",
    "\n",
    "    param = {'firm_lb1': optimal_x[0],\n",
    "             'firm_lb2': optimal_x[1],\n",
    "             'firm_ub1': optimal_x[2],\n",
    "             'firm_ub2': optimal_x[3],\n",
    "             'firm_alpha1': optimal_x[4],\n",
    "             'firm_alpha2': optimal_x[5],\n",
    "             'firm_rho': optimal_x[6],\n",
    "             'min_productivity': optimal_x[7],}\n",
    "             #'market_price': optimal_x[8]}\n",
    "    res = run_simulation(seed, copy.deepcopy(bank_data), param)\n",
    "    return res\n",
    "\n",
    "\n",
    "random_seeds = random.sample(range(1, 100000), 1000)\n",
    "\n",
    "results = Parallel(n_jobs=-1)(delayed(fun)(i, bank_data) for i in random_seeds)"
   ]
  },
  {
   "cell_type": "code",
   "execution_count": 23,
   "id": "285c3272-3860-4c9f-bdd6-9c2bd9811ab8",
   "metadata": {},
   "outputs": [],
   "source": [
    "# save data to pickle \n",
    "import pickle\n",
    "\n",
    "with open('filename.pickle', 'wb') as handle:\n",
    "    pickle.dump((results, random_seeds, optimal_x), handle, protocol=pickle.HIGHEST_PROTOCOL)"
   ]
  },
  {
   "cell_type": "code",
   "execution_count": 24,
   "id": "42a71e9b-0e2d-4ab6-8b95-2604e8028e0f",
   "metadata": {},
   "outputs": [],
   "source": [
    "# Anderson k-sample test"
   ]
  },
  {
   "cell_type": "code",
   "execution_count": 25,
   "id": "d254662b-d555-4fc7-9e76-2f7b82d065e4",
   "metadata": {},
   "outputs": [],
   "source": [
    "from scipy.stats import anderson_ksamp"
   ]
  },
  {
   "cell_type": "code",
   "execution_count": 26,
   "id": "f9d25caf-ef8b-4a35-8742-296c26c87adf",
   "metadata": {},
   "outputs": [
    {
     "name": "stderr",
     "output_type": "stream",
     "text": [
      "/var/folders/c9/mdyn5q915qzdd068w6dx1gbm0000gp/T/ipykernel_8205/222184903.py:1: UserWarning: p-value capped: true value larger than 0.25\n",
      "  res = anderson_ksamp([x[1] for x in results])\n"
     ]
    }
   ],
   "source": [
    "res = anderson_ksamp([x[1] for x in results])"
   ]
  },
  {
   "cell_type": "code",
   "execution_count": 18,
   "id": "f68f32f0-ebdd-418e-8c46-bad60fae971f",
   "metadata": {},
   "outputs": [
    {
     "data": {
      "text/plain": [
       "0.25"
      ]
     },
     "execution_count": 18,
     "metadata": {},
     "output_type": "execute_result"
    }
   ],
   "source": [
    "res.pvalue"
   ]
  },
  {
   "cell_type": "code",
   "execution_count": 19,
   "id": "57861575-26ec-4aae-99c7-20e4c10c1573",
   "metadata": {},
   "outputs": [],
   "source": [
    "# KS independent"
   ]
  },
  {
   "cell_type": "code",
   "execution_count": 20,
   "id": "65bc9923-173e-4d22-94b9-6b645cf8089c",
   "metadata": {},
   "outputs": [],
   "source": [
    "# ks test\n",
    "res = [kstest(r[0], r[1], alternative='two-sided').pvalue for r in results]"
   ]
  },
  {
   "cell_type": "code",
   "execution_count": 21,
   "id": "9d052d53-8b39-4ba2-b4ac-5930f23d0880",
   "metadata": {},
   "outputs": [
    {
     "data": {
      "image/png": "[encoded data removed]",
      "text/plain": [
       "<Figure size 640x480 with 1 Axes>"
      ]
     },
     "metadata": {},
     "output_type": "display_data"
    }
   ],
   "source": [
    "plt.hist(res, bins=50)\n",
    "plt.show()"
   ]
  },
  {
   "cell_type": "markdown",
   "id": "af392c4c-4949-4248-ac45-e30af61b0fa3",
   "metadata": {},
   "source": [
    "# price distribution"
   ]
  },
  {
   "cell_type": "code",
   "execution_count": 27,
   "id": "8d531b2e-a0db-48a9-891d-846f0922df89",
   "metadata": {},
   "outputs": [],
   "source": [
    "new_firm_market_price = [np.average(x[4]) for x in results]\n",
    "old_market_price = [x[5] for x in results]"
   ]
  },
  {
   "cell_type": "code",
   "execution_count": 29,
   "id": "f53c91af-9105-40e0-945e-4085f6186047",
   "metadata": {},
   "outputs": [
    {
     "data": {
      "text/plain": [
       "(array([  8.,  18.,  71., 147., 229., 272., 160.,  68.,  22.,   5.]),\n",
       " array([347.13822641, 348.79934725, 350.46046809, 352.12158893,\n",
       "        353.78270977, 355.4438306 , 357.10495144, 358.76607228,\n",
       "        360.42719312, 362.08831396, 363.74943479]),\n",
       " <BarContainer object of 10 artists>)"
      ]
     },
     "execution_count": 29,
     "metadata": {},
     "output_type": "execute_result"
    },
    {
     "data": {
      "image/png": "[encoded data removed]",
      "text/plain": [
       "<Figure size 640x480 with 1 Axes>"
      ]
     },
     "metadata": {},
     "output_type": "display_data"
    }
   ],
   "source": [
    "plt.hist(new_firm_market_price)"
   ]
  },
  {
   "cell_type": "code",
   "execution_count": null,
   "id": "7000bbe3-b432-49ba-bf55-34371b19f8ee",
   "metadata": {},
   "outputs": [],
   "source": [
    "y"
   ]
  }
 ],
 "metadata": {
  "kernelspec": {
   "display_name": "Python 3 (ipykernel)",
   "language": "python",
   "name": "python3"
  },
  "language_info": {
   "codemirror_mode": {
    "name": "ipython",
    "version": 3
   },
   "file_extension": ".py",
   "mimetype": "text/x-python",
   "name": "python",
   "nbconvert_exporter": "python",
   "pygments_lexer": "ipython3",
   "version": "3.11.5"
  }
 },
 "nbformat": 4,
 "nbformat_minor": 5
}
