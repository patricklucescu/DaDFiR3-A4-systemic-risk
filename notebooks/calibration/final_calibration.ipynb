{
 "cells": [
  {
   "cell_type": "code",
   "execution_count": 1,
   "id": "ad813688-0b09-4ce0-ae59-ad37fcfb6c84",
   "metadata": {},
   "outputs": [],
   "source": [
    "import os\n",
    "import git\n",
    "import sys\n",
    "\n",
    "git_repo = git.Repo(os.getcwd(), search_parent_directories=True)\n",
    "git_root = git_repo.git.rev_parse(\"--show-toplevel\")\n",
    "\n",
    "sys.path.append(git_root)\n",
    "\n",
    "from abm_vec.one_period_sim import run_sim\n",
    "from abm_vec.initialization import get_bank_data\n",
    "\n",
    "from scipy.optimize import minimize\n",
    "from scipy.stats import kstest\n",
    "import copy\n",
    "import seaborn as sns\n",
    "import matplotlib.pyplot as plt\n",
    "from abm_vec.essentials.util import get_git_root_directory\n",
    "import numpy as np\n",
    "import random\n",
    "from scipy import stats\n",
    "from scipy.stats import anderson_ksamp"
   ]
  },
  {
   "cell_type": "code",
   "execution_count": 2,
   "id": "66bf3008-05cf-47e0-907e-1e6ef8c2d302",
   "metadata": {},
   "outputs": [],
   "source": [
    "bank_data = get_bank_data()"
   ]
  },
  {
   "cell_type": "markdown",
   "id": "4da5270a-0af8-453e-aa6d-6ce687ea6a95",
   "metadata": {},
   "source": [
    "# Minimize KS distance"
   ]
  },
  {
   "cell_type": "code",
   "execution_count": 3,
   "id": "036866e5-1e66-4b3f-b43e-c26f50b42c1c",
   "metadata": {},
   "outputs": [],
   "source": [
    "def fun(x):\n",
    "\n",
    "    param = {'firm_lb1': x[0],\n",
    "             'firm_lb2': x[1],\n",
    "             'firm_ub1': x[2],\n",
    "             'firm_ub2': x[3],\n",
    "             'firm_alpha1': x[4],\n",
    "             'firm_alpha2': x[5],\n",
    "             'firm_rho': x[6],\n",
    "             'min_productivity': x[7]}\n",
    "    results = run_sim(param, copy.deepcopy(bank_data), [1]) \n",
    "    empirical_le_ratio = results[0]['banks']['bank_loans'] / results[0]['banks']['bank_equity']\n",
    "    simulated_le_ratio = results[1]['banks']['bank_loans'] / results[0]['banks']['bank_equity']\n",
    "    max_diff = kstest(empirical_le_ratio, simulated_le_ratio, alternative='two-sided').statistic \n",
    "    return max_diff"
   ]
  },
  {
   "cell_type": "code",
   "execution_count": 4,
   "id": "55741451-e70b-4a64-9307-cdd0f786551b",
   "metadata": {},
   "outputs": [],
   "source": [
    "bounds = [(5 * 10 ** 5, 5 * 10 ** 6),\n",
    "          (10 ** 3, 10**4),\n",
    "          (5 * 10** 7, 30 * 10 ** 7),\n",
    "          (5 * 10 ** 5, 10 ** 7),\n",
    "          (0, 3),\n",
    "          (0, 3),\n",
    "          (0, 1) ,\n",
    "          (100, 1000)]#,\n",
    "          #(50, 2000)]\n",
    "\n",
    "initial_guess = [10**6, 7500, 15 * 10 ** 7, 0.7 * 10 ** 6, 1.6, 1.7, 0.9, 150]#, 820]\n",
    "\n",
    "\n",
    "result = minimize(fun, initial_guess, method='Nelder-Mead', bounds=bounds)"
   ]
  },
  {
   "cell_type": "code",
   "execution_count": 5,
   "id": "7149da45-bc3e-42aa-ac0d-e0636e385921",
   "metadata": {},
   "outputs": [],
   "source": [
    "optimal_x = result.x"
   ]
  },
  {
   "cell_type": "code",
   "execution_count": 6,
   "id": "9b888121-bb8e-47c9-aefc-436c9a32ebf1",
   "metadata": {},
   "outputs": [
    {
     "data": {
      "text/plain": [
       "array([9.87030029e+05, 7.81471252e+03, 1.51020813e+08, 6.98611450e+05,\n",
       "       1.66713867e+00, 1.66508484e+00, 9.37765503e-01, 1.40844727e+02])"
      ]
     },
     "execution_count": 6,
     "metadata": {},
     "output_type": "execute_result"
    }
   ],
   "source": [
    "optimal_x"
   ]
  },
  {
   "cell_type": "code",
   "execution_count": 6,
   "id": "e7fb7dfb-2919-46c0-aabf-fe649b68af2e",
   "metadata": {},
   "outputs": [
    {
     "data": {
      "text/plain": [
       "array([9.87030029e+05, 7.81471252e+03, 1.51020813e+08, 6.98611450e+05,\n",
       "       1.66713867e+00, 1.66508484e+00, 9.37765503e-01, 1.40844727e+02])"
      ]
     },
     "execution_count": 6,
     "metadata": {},
     "output_type": "execute_result"
    }
   ],
   "source": [
    "optimal_x"
   ]
  },
  {
   "cell_type": "markdown",
   "id": "53ecb485-979e-4199-93cf-41f4053c7329",
   "metadata": {},
   "source": [
    "# Generate 1000 samples and apply the k-sample Anderson test"
   ]
  },
  {
   "cell_type": "code",
   "execution_count": 7,
   "id": "bfcb76e8-908a-4d7b-8488-5c680b5f79f7",
   "metadata": {},
   "outputs": [],
   "source": [
    "def fun(x):\n",
    "    param = {'firm_lb1': x[0],\n",
    "             'firm_lb2': x[1],\n",
    "             'firm_ub1': x[2],\n",
    "             'firm_ub2': x[3],\n",
    "             'firm_alpha1': x[4],\n",
    "             'firm_alpha2': x[5],\n",
    "             'firm_rho': x[6],\n",
    "             'min_productivity': x[7]}\n",
    "    random_seeds = random.sample(range(1, 100000), 1000)\n",
    "    results = run_sim(param, copy.deepcopy(bank_data), random_seeds) \n",
    "    empirical_le_ratio = [s[0]['banks']['bank_loans'] / s[0]['banks']['bank_equity'] for s in results]\n",
    "    simulated_le_ratio = [s[1]['banks']['bank_loans'] / s[0]['banks']['bank_equity'] for s in results]\n",
    "    return empirical_le_ratio, simulated_le_ratio"
   ]
  },
  {
   "cell_type": "code",
   "execution_count": 8,
   "id": "b63a0872-5673-4f9c-902c-6b3b1d307d8b",
   "metadata": {},
   "outputs": [],
   "source": [
    "empirical_le_ratio, simulated_le_ratio = fun(optimal_x)"
   ]
  },
  {
   "cell_type": "code",
   "execution_count": 10,
   "id": "967cb337-8022-4d82-b5de-63b146041c3e",
   "metadata": {},
   "outputs": [
    {
     "name": "stderr",
     "output_type": "stream",
     "text": [
      "/tmp/ipykernel_21623/2577826661.py:1: UserWarning: p-value capped: true value larger than 0.25\n",
      "  res = anderson_ksamp(simulated_le_ratio)\n"
     ]
    }
   ],
   "source": [
    "res = anderson_ksamp(simulated_le_ratio)"
   ]
  },
  {
   "cell_type": "code",
   "execution_count": 11,
   "id": "c67c463f-883b-48d6-8d14-4fca4151ebb0",
   "metadata": {},
   "outputs": [
    {
     "data": {
      "text/plain": [
       "0.25"
      ]
     },
     "execution_count": 11,
     "metadata": {},
     "output_type": "execute_result"
    }
   ],
   "source": [
    "res.pvalue"
   ]
  },
  {
   "cell_type": "markdown",
   "id": "06cc878a-3322-4368-acae-950b1131ffd9",
   "metadata": {},
   "source": [
    "# KS independent"
   ]
  },
  {
   "cell_type": "code",
   "execution_count": 13,
   "id": "20729b72-546d-44ed-ae7f-f2a2b6af822a",
   "metadata": {},
   "outputs": [],
   "source": [
    "# ks test\n",
    "res = [kstest(empirical_le_ratio[0], r, alternative='two-sided').pvalue for r in simulated_le_ratio]"
   ]
  },
  {
   "cell_type": "code",
   "execution_count": 14,
   "id": "f5d2c831-2200-40c5-ae4c-be0ebc35d764",
   "metadata": {},
   "outputs": [
    {
     "data": {
      "image/png": "[encoded data removed]",
      "text/plain": [
       "<Figure size 640x480 with 1 Axes>"
      ]
     },
     "metadata": {},
     "output_type": "display_data"
    }
   ],
   "source": [
    "plt.hist(res, bins=50)\n",
    "plt.show()"
   ]
  },
  {
   "cell_type": "markdown",
   "id": "cbd3cd41-8faa-4b51-a64c-66b2732d83ec",
   "metadata": {},
   "source": [
    "# price optimization"
   ]
  },
  {
   "cell_type": "code",
   "execution_count": 10,
   "id": "96aa7e70-7c6e-4787-b12b-d75438a210bd",
   "metadata": {},
   "outputs": [],
   "source": [
    "def update_param(param, new):\n",
    "    param_new = param.copy()\n",
    "    param_new.update(new)\n",
    "    return param_new"
   ]
  },
  {
   "cell_type": "code",
   "execution_count": 11,
   "id": "8b628807-c6f0-49e0-a76c-ec10c5397669",
   "metadata": {},
   "outputs": [],
   "source": [
    "x = np.array([9.87030029 * 10 ** 5, 7.81471252 * 10 ** 3, 1.51020813 * 10 ** 8, 6.98611450 * 10 ** 5,\n",
    "       1.66713867, 1.66508484e+00, 0.937765503, 1.40844727 * 10 ** 2])\n",
    "\n",
    "param = {'firm_lb1': x[0],\n",
    "         'firm_lb2': x[1],\n",
    "         'firm_ub1': x[2],\n",
    "         'firm_ub2': x[3],\n",
    "         'firm_alpha1': x[4],\n",
    "         'firm_alpha2': x[5],\n",
    "         'firm_rho': x[6],\n",
    "         'min_productivity': x[7],\n",
    "         'market_price': 600,\n",
    "         \"good_consumption\": [0.98, 0.94],\n",
    "         \"good_consumption_std\": [0.006, 0.006],\n",
    "         \"min_consumption\": 0.9,\n",
    "         \"max_consumption\": 1}"
   ]
  },
  {
   "cell_type": "code",
   "execution_count": 12,
   "id": "7debbb5d-0942-49b3-b8c3-954506861860",
   "metadata": {},
   "outputs": [],
   "source": [
    "min_prices_threshold = [run_sim(update_param(param, {'market_price': x}), copy.deepcopy(bank_data), [1])[1]['firms']['min_price_breach'] for x in np.linspace(100, 1000, 20)]"
   ]
  },
  {
   "cell_type": "code",
   "execution_count": 13,
   "id": "cb516cc5-4e1d-473b-8b43-fd2d195611d7",
   "metadata": {},
   "outputs": [
    {
     "data": {
      "image/png": "[encoded data removed]",
      "text/plain": [
       "<Figure size 640x480 with 1 Axes>"
      ]
     },
     "metadata": {},
     "output_type": "display_data"
    }
   ],
   "source": [
    "plt.plot(np.linspace(100, 1000, 20), min_prices_threshold)\n",
    "plt.show()"
   ]
  },
  {
   "cell_type": "markdown",
   "id": "e3e61574-b9ae-4be5-964c-29ed6a4146fa",
   "metadata": {},
   "source": [
    "# Setting $\\mu_{goods}$"
   ]
  },
  {
   "cell_type": "code",
   "execution_count": 23,
   "id": "c4f29a05-baca-450f-b9ca-906e71ae70ff",
   "metadata": {},
   "outputs": [],
   "source": [
    "num_defaulting_banks = [len(run_sim({'good_consumption': [1, x], \"min_consumption\": 0.0}, copy.deepcopy(bank_data), [1])[1]['firms'][\"defaulting_firms\"]) for x in np.linspace(0.1, 1, 100)]"
   ]
  },
  {
   "cell_type": "code",
   "execution_count": 33,
   "id": "e0870d51-3306-40eb-ba09-5b20529cfb58",
   "metadata": {},
   "outputs": [
    {
     "data": {
      "image/png": "[encoded data removed]",
      "text/plain": [
       "<Figure size 700x500 with 1 Axes>"
      ]
     },
     "metadata": {},
     "output_type": "display_data"
    }
   ],
   "source": [
    "plt.figure(figsize=(7,5))\n",
    "plt.plot(np.linspace(0.1, 1, 100), [x/10000 for x in num_defaulting_banks])\n",
    "plt.xlabel('$\\mu_{goods}$')\n",
    "plt.ylabel('Percentage of defaulting firms')\n",
    "plt.savefig(os.path.join(git_root, 'plots_presentation/percentage_firm_default.png'),bbox_inches='tight', dpi=400, edgecolor='white')\n",
    "plt.show()"
   ]
  },
  {
   "cell_type": "code",
   "execution_count": 28,
   "id": "4e48505b-31b4-4beb-8efc-a0742e658c91",
   "metadata": {},
   "outputs": [
    {
     "data": {
      "text/plain": [
       "0.8909090909090909"
      ]
     },
     "execution_count": 28,
     "metadata": {},
     "output_type": "execute_result"
    }
   ],
   "source": [
    "np.linspace(0.1, 1, 100)[-13]"
   ]
  },
  {
   "cell_type": "code",
   "execution_count": null,
   "id": "35c5ef55-6881-4b53-ab11-6eed6b132375",
   "metadata": {},
   "outputs": [],
   "source": []
  }
 ],
 "metadata": {
  "kernelspec": {
   "display_name": "Python 3 (ipykernel)",
   "language": "python",
   "name": "python3"
  },
  "language_info": {
   "codemirror_mode": {
    "name": "ipython",
    "version": 3
   },
   "file_extension": ".py",
   "mimetype": "text/x-python",
   "name": "python",
   "nbconvert_exporter": "python",
   "pygments_lexer": "ipython3",
   "version": "3.11.5"
  }
 },
 "nbformat": 4,
 "nbformat_minor": 5
}
