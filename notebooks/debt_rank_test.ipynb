{
 "cells": [
  {
   "cell_type": "code",
   "execution_count": 60,
   "id": "0ecda38a-0222-4138-bd0b-d91ba5285cf5",
   "metadata": {},
   "outputs": [],
   "source": [
    "import os\n",
    "import git\n",
    "import sys\n",
    "\n",
    "git_repo = git.Repo(os.getcwd(), search_parent_directories=True)\n",
    "git_root = git_repo.git.rev_parse(\"--show-toplevel\")\n",
    "\n",
    "res_path = os.path.join(git_root, 'results_test')\n",
    "\n",
    "sys.path.append(git_root)\n",
    "\n",
    "from abm_vec.one_period_sim import run_one_sim\n",
    "from abm_vec.initialization import get_bank_data\n",
    "from abm_vec.calibration import get_calibration_variables\n",
    "\n",
    "from scipy.optimize import minimize\n",
    "from scipy.stats import kstest\n",
    "import copy\n",
    "import seaborn as sns\n",
    "import matplotlib.pyplot as plt\n",
    "from abm_vec.essentials.util import get_git_root_directory\n",
    "import numpy as np\n",
    "import random\n",
    "from scipy import stats\n",
    "import time\n",
    "from joblib import Parallel, delayed\n",
    "import pickle"
   ]
  },
  {
   "cell_type": "code",
   "execution_count": 61,
   "id": "8e5c655d-1fd5-4ed7-acb0-9ac7aad696fa",
   "metadata": {},
   "outputs": [],
   "source": [
    "bank_data = get_bank_data()\n",
    "calibration_variables = get_calibration_variables()"
   ]
  },
  {
   "cell_type": "code",
   "execution_count": 62,
   "id": "0b07f673-801a-4b8a-a505-b50ef3f9d13d",
   "metadata": {},
   "outputs": [],
   "source": [
    "covered_p = np.linspace(0,0.9, 11)\n",
    "naked_p = np.linspace(0,0.05, 11)\n",
    "\n",
    "deposit = -2.5"
   ]
  },
  {
   "cell_type": "code",
   "execution_count": 63,
   "id": "8830251d-e47f-4d98-9ee0-0b3d42c23e90",
   "metadata": {},
   "outputs": [],
   "source": [
    "import _pickle as cPickle\n",
    "import numpy as np\n",
    "import matplotlib.pyplot as plt\n",
    "import pandas as pd\n",
    "from scipy import stats"
   ]
  },
  {
   "cell_type": "code",
   "execution_count": 64,
   "id": "85daf93f-167a-4a4a-86c5-6772211f6ce0",
   "metadata": {},
   "outputs": [],
   "source": [
    "results_dir = os.path.join(git_root, 'results')"
   ]
  },
  {
   "cell_type": "code",
   "execution_count": 65,
   "id": "0b0b0b09-457b-43f8-bbc1-4071006e15ed",
   "metadata": {},
   "outputs": [],
   "source": [
    "result_file_names = next(os.walk(results_dir), (None, None, []))[2]\n",
    "result_file_names = [x for x in result_file_names if '-2.5.pkl' in x]"
   ]
  },
  {
   "cell_type": "code",
   "execution_count": 67,
   "id": "64771186-870e-4f2d-83fb-357011b1f3b2",
   "metadata": {},
   "outputs": [],
   "source": [
    "data = list()\n",
    "for x in result_file_names:\n",
    "    file = x.split('_')\n",
    "    covered = round(float(file[1]),3)\n",
    "    naked = round(float(file[2]),3)\n",
    "    deposit = round(float(file[3].split('.')[0]),3)\n",
    "    with open(os.path.join(results_dir, x), \"rb\") as input_file:\n",
    "        results = cPickle.load(input_file)\n",
    "    for i in range(len(results)):\n",
    "        prior_equity = results[i][0]['banks']['bank_equity']\n",
    "        post_equity = results[i][1]['banks']['bank_equity']\n",
    "        data.append({'covered': covered, 'naked': naked, 'deposit': deposit, 'prior_equity': prior_equity,\n",
    "                    'post_equity': post_equity})"
   ]
  },
  {
   "cell_type": "code",
   "execution_count": 68,
   "id": "304baee0-3c93-485f-96e6-3ac78e7d05a8",
   "metadata": {},
   "outputs": [],
   "source": [
    "data= pd.DataFrame(data)"
   ]
  },
  {
   "cell_type": "code",
   "execution_count": 69,
   "id": "74bed38e-8b1c-44f7-9fee-9eabb68f2684",
   "metadata": {},
   "outputs": [],
   "source": [
    "def compute_h(prior, post):\n",
    "    return np.minimum(1, (prior - post) / prior)"
   ]
  },
  {
   "cell_type": "code",
   "execution_count": 70,
   "id": "6461dea8-db99-4ca6-ade5-501320e8ba33",
   "metadata": {},
   "outputs": [],
   "source": [
    "def compute_global_vulnerability(row):\n",
    "    return sum(row['prior_equity'] * row['individual_vulnerability'])/sum(row['prior_equity'])"
   ]
  },
  {
   "cell_type": "code",
   "execution_count": 71,
   "id": "758676ca-14db-42e4-b94b-7e493f40b492",
   "metadata": {},
   "outputs": [],
   "source": [
    "data['individual_vulnerability'] = data.apply(lambda row: compute_h(row['prior_equity'], row['post_equity']), axis=1)"
   ]
  },
  {
   "cell_type": "code",
   "execution_count": 72,
   "id": "7754491d-6c6a-4ca8-b6cb-27e995396929",
   "metadata": {},
   "outputs": [],
   "source": [
    "data['global_vulnerability'] = data.apply(lambda row: compute_global_vulnerability(row), axis=1)"
   ]
  },
  {
   "cell_type": "code",
   "execution_count": 73,
   "id": "95e7a5ef-0e48-4fb3-8ab5-5ae4f7493c06",
   "metadata": {},
   "outputs": [],
   "source": [
    "def compute_mean_and_ci(x):\n",
    "    mean = np.mean(x)\n",
    "    std_error = np.std(x, ddof=1) / np.sqrt(len(x))\n",
    "    confidence_level = 0.95\n",
    "    dof = len(data) - 1\n",
    "\n",
    "    # Critical value (t-distribution)\n",
    "    t_critical = stats.t.ppf((1 + confidence_level) / 2, dof)\n",
    "    \n",
    "    # Calculate the confidence interval\n",
    "    margin_of_error = t_critical * std_error\n",
    "    confidence_interval = (mean - margin_of_error, mean + margin_of_error)\n",
    "    return mean, confidence_interval"
   ]
  },
  {
   "cell_type": "code",
   "execution_count": 74,
   "id": "a81f3178-d349-4853-9a6b-74e20dfeabc3",
   "metadata": {},
   "outputs": [],
   "source": [
    "res_data = []"
   ]
  },
  {
   "cell_type": "code",
   "execution_count": 75,
   "id": "9dfea818-c4c5-47f3-936a-71aa891e67d0",
   "metadata": {},
   "outputs": [],
   "source": [
    "for covered in data.covered.unique():\n",
    "    for naked in data.naked.unique():\n",
    "        for deposit in data.deposit.unique():\n",
    "            df = data[(data.covered == covered) & \n",
    "                      (data.naked == naked) & \n",
    "                      (data.deposit == deposit)\n",
    "            ]\n",
    "            median_av, median_ci = compute_mean_and_ci(df['global_vulnerability'].values)\n",
    "            res_data.append({\n",
    "                'covered': covered, 'naked': naked, 'deposit': deposit,\n",
    "                'median_av': median_av, 'median_ci': median_ci, \n",
    "            })"
   ]
  },
  {
   "cell_type": "code",
   "execution_count": 76,
   "id": "db2e9b3b-b36b-46fa-b888-499c915b7cd5",
   "metadata": {},
   "outputs": [],
   "source": [
    "res_data = pd.DataFrame(res_data)"
   ]
  },
  {
   "cell_type": "code",
   "execution_count": 77,
   "id": "6888b354-319a-4316-a8fd-20ff0a343359",
   "metadata": {},
   "outputs": [
    {
     "data": {
      "application/vnd.plotly.v1+json": {
       "config": {
        "plotlyServerURL": "https://plot.ly"
       },
       "data": [
        {
         "marker": {
          "opacity": 0.8,
          "size": 5
         },
         "mode": "markers",
         "type": "scatter3d",
         "x": [
          0,
          0,
          0,
          0,
          0,
          0,
          0,
          0,
          0,
          0,
          0,
          0.35,
          0.35,
          0.35,
          0.35,
          0.35,
          0.35,
          0.35,
          0.35,
          0.35,
          0.35,
          0.35,
          0.15,
          0.15,
          0.15,
          0.15,
          0.15,
          0.15,
          0.15,
          0.15,
          0.15,
          0.15,
          0.15,
          0.4,
          0.4,
          0.4,
          0.4,
          0.4,
          0.4,
          0.4,
          0.4,
          0.4,
          0.4,
          0.4,
          0.5,
          0.5,
          0.5,
          0.5,
          0.5,
          0.5,
          0.5,
          0.5,
          0.5,
          0.5,
          0.5,
          0.3,
          0.3,
          0.3,
          0.3,
          0.3,
          0.3,
          0.3,
          0.3,
          0.3,
          0.3,
          0.3,
          0.1,
          0.1,
          0.1,
          0.1,
          0.1,
          0.1,
          0.1,
          0.1,
          0.1,
          0.1,
          0.1,
          0.2,
          0.2,
          0.2,
          0.2,
          0.2,
          0.2,
          0.2,
          0.2,
          0.2,
          0.2,
          0.2,
          0.45,
          0.45,
          0.45,
          0.45,
          0.45,
          0.45,
          0.45,
          0.45,
          0.45,
          0.45,
          0.45,
          0.05,
          0.05,
          0.05,
          0.05,
          0.05,
          0.05,
          0.05,
          0.05,
          0.05,
          0.05,
          0.05,
          0.25,
          0.25,
          0.25,
          0.25,
          0.25,
          0.25,
          0.25,
          0.25,
          0.25,
          0.25,
          0.25
         ],
         "y": [
          0.04,
          0.005,
          0.01,
          0,
          0.05,
          0.035,
          0.025,
          0.03,
          0.02,
          0.015,
          0.045,
          0.04,
          0.005,
          0.01,
          0,
          0.05,
          0.035,
          0.025,
          0.03,
          0.02,
          0.015,
          0.045,
          0.04,
          0.005,
          0.01,
          0,
          0.05,
          0.035,
          0.025,
          0.03,
          0.02,
          0.015,
          0.045,
          0.04,
          0.005,
          0.01,
          0,
          0.05,
          0.035,
          0.025,
          0.03,
          0.02,
          0.015,
          0.045,
          0.04,
          0.005,
          0.01,
          0,
          0.05,
          0.035,
          0.025,
          0.03,
          0.02,
          0.015,
          0.045,
          0.04,
          0.005,
          0.01,
          0,
          0.05,
          0.035,
          0.025,
          0.03,
          0.02,
          0.015,
          0.045,
          0.04,
          0.005,
          0.01,
          0,
          0.05,
          0.035,
          0.025,
          0.03,
          0.02,
          0.015,
          0.045,
          0.04,
          0.005,
          0.01,
          0,
          0.05,
          0.035,
          0.025,
          0.03,
          0.02,
          0.015,
          0.045,
          0.04,
          0.005,
          0.01,
          0,
          0.05,
          0.035,
          0.025,
          0.03,
          0.02,
          0.015,
          0.045,
          0.04,
          0.005,
          0.01,
          0,
          0.05,
          0.035,
          0.025,
          0.03,
          0.02,
          0.015,
          0.045,
          0.04,
          0.005,
          0.01,
          0,
          0.05,
          0.035,
          0.025,
          0.03,
          0.02,
          0.015,
          0.045
         ],
         "z": [
          -0.007644066693220274,
          -0.0075994873194373215,
          -0.007537547382739162,
          -0.007607785371930164,
          -0.00769027913966046,
          -0.0076376404818768225,
          -0.007609914224680327,
          -0.007621089176808275,
          -0.007567522758955947,
          -0.007596799194201718,
          -0.007599809987414429,
          -0.0076269694432194255,
          -0.007669393131100719,
          -0.0076453210941220305,
          -0.007680649238789496,
          -0.007643440469148146,
          -0.007672441815346142,
          -0.007656822224208898,
          -0.007591857335105912,
          -0.007677939747034152,
          -0.00767949101345144,
          -0.007586502279866508,
          -0.007540900545903821,
          -0.0076364960372382,
          -0.00747707433896644,
          -0.007546815994963495,
          -0.007594458323973134,
          -0.007567395107611178,
          -0.007632947727054261,
          -0.007632040712298055,
          -0.007596816356780903,
          -0.007565876702930167,
          -0.007660490293019681,
          -0.007666880878200402,
          -0.007697815186806926,
          -0.00764714742534542,
          -0.007631509564390286,
          -0.007681112810375963,
          -0.007671989249456745,
          -0.007641942424233599,
          -0.007677264331519567,
          -0.007675363716481954,
          -0.0076701536339693,
          -0.0076426084695098255,
          -0.007620208797775615,
          -0.007672468244236492,
          -0.007668045245226119,
          -0.007616672551942324,
          -0.007649227831296489,
          -0.007662373929793097,
          -0.007590259958298006,
          -0.007649811847107284,
          -0.007700292896921084,
          -0.007683969455778724,
          -0.007615576591123738,
          -0.007662969295415218,
          -0.007655155615830337,
          -0.007671575632347145,
          -0.007651034754742271,
          -0.007565743058483298,
          -0.007665522226538553,
          -0.007617655278204393,
          -0.0076599217107136495,
          -0.007607874161228473,
          -0.007669371162424969,
          -0.007674407936885025,
          -0.007632736165590449,
          -0.007631973076700912,
          -0.007553261340804053,
          -0.007643908873214844,
          -0.007664545449407776,
          -0.007579300395405525,
          -0.0076250203670379735,
          -0.007597946551349621,
          -0.007577051922769618,
          -0.007614919667857473,
          -0.007662548587461633,
          -0.007656527504425145,
          -0.0075563015942317745,
          -0.0076577077239654385,
          -0.0075923433721160494,
          -0.007645935008481402,
          -0.007650750590969679,
          -0.007596007857366578,
          -0.007650231236900389,
          -0.007575497059639126,
          -0.007632341356850821,
          -0.007597130646361943,
          -0.007643553558255816,
          -0.007692348466436774,
          -0.007659385756922944,
          -0.007663288361506562,
          -0.007606576551560916,
          -0.007622905455739503,
          -0.007640826032171131,
          -0.007677813733782699,
          -0.0076120904333811116,
          -0.007618242771856815,
          -0.0076829839153821555,
          -0.007614114093197117,
          -0.007499868447566785,
          -0.007602526282171419,
          -0.007607385723116356,
          -0.007664384903463599,
          -0.007635371592341874,
          -0.0075825500509252375,
          -0.007583005291247767,
          -0.007549926887355127,
          -0.007529851788363556,
          -0.0076211295581118735,
          -0.007588800579514847,
          -0.007603642226556322,
          -0.007627626502468173,
          -0.007596903508522372,
          -0.007642642038369851,
          -0.007582694681366651,
          -0.007618579964447531,
          -0.0076074141626299874,
          -0.007617368174971687,
          -0.007629820600263138,
          -0.007665909889518599
         ]
        }
       ],
       "layout": {
        "height": 800,
        "scene": {
         "aspectmode": "auto",
         "aspectratio": {
          "x": 1,
          "y": 1,
          "z": 1
         },
         "camera": {
          "center": {
           "x": 0,
           "y": 0,
           "z": 0
          },
          "eye": {
           "x": -1.428922634940847,
           "y": 1.726932139322569,
           "z": 1.3027506547224157
          },
          "projection": {
           "type": "perspective"
          },
          "up": {
           "x": 0,
           "y": 0,
           "z": 1
          }
         },
         "xaxis": {
          "title": {
           "text": "Coverd"
          },
          "type": "linear"
         },
         "yaxis": {
          "title": {
           "text": "Naked"
          },
          "type": "linear"
         },
         "zaxis": {
          "title": {
           "text": "Median"
          },
          "type": "linear"
         }
        },
        "template": {
         "data": {
          "bar": [
           {
            "error_x": {
             "color": "#2a3f5f"
            },
            "error_y": {
             "color": "#2a3f5f"
            },
            "marker": {
             "line": {
              "color": "#E5ECF6",
              "width": 0.5
             },
             "pattern": {
              "fillmode": "overlay",
              "size": 10,
              "solidity": 0.2
             }
            },
            "type": "bar"
           }
          ],
          "barpolar": [
           {
            "marker": {
             "line": {
              "color": "#E5ECF6",
              "width": 0.5
             },
             "pattern": {
              "fillmode": "overlay",
              "size": 10,
              "solidity": 0.2
             }
            },
            "type": "barpolar"
           }
          ],
          "carpet": [
           {
            "aaxis": {
             "endlinecolor": "#2a3f5f",
             "gridcolor": "white",
             "linecolor": "white",
             "minorgridcolor": "white",
             "startlinecolor": "#2a3f5f"
            },
            "baxis": {
             "endlinecolor": "#2a3f5f",
             "gridcolor": "white",
             "linecolor": "white",
             "minorgridcolor": "white",
             "startlinecolor": "#2a3f5f"
            },
            "type": "carpet"
           }
          ],
          "choropleth": [
           {
            "colorbar": {
             "outlinewidth": 0,
             "ticks": ""
            },
            "type": "choropleth"
           }
          ],
          "contour": [
           {
            "colorbar": {
             "outlinewidth": 0,
             "ticks": ""
            },
            "colorscale": [
             [
              0,
              "#0d0887"
             ],
             [
              0.1111111111111111,
              "#46039f"
             ],
             [
              0.2222222222222222,
              "#7201a8"
             ],
             [
              0.3333333333333333,
              "#9c179e"
             ],
             [
              0.4444444444444444,
              "#bd3786"
             ],
             [
              0.5555555555555556,
              "#d8576b"
             ],
             [
              0.6666666666666666,
              "#ed7953"
             ],
             [
              0.7777777777777778,
              "#fb9f3a"
             ],
             [
              0.8888888888888888,
              "#fdca26"
             ],
             [
              1,
              "#f0f921"
             ]
            ],
            "type": "contour"
           }
          ],
          "contourcarpet": [
           {
            "colorbar": {
             "outlinewidth": 0,
             "ticks": ""
            },
            "type": "contourcarpet"
           }
          ],
          "heatmap": [
           {
            "colorbar": {
             "outlinewidth": 0,
             "ticks": ""
            },
            "colorscale": [
             [
              0,
              "#0d0887"
             ],
             [
              0.1111111111111111,
              "#46039f"
             ],
             [
              0.2222222222222222,
              "#7201a8"
             ],
             [
              0.3333333333333333,
              "#9c179e"
             ],
             [
              0.4444444444444444,
              "#bd3786"
             ],
             [
              0.5555555555555556,
              "#d8576b"
             ],
             [
              0.6666666666666666,
              "#ed7953"
             ],
             [
              0.7777777777777778,
              "#fb9f3a"
             ],
             [
              0.8888888888888888,
              "#fdca26"
             ],
             [
              1,
              "#f0f921"
             ]
            ],
            "type": "heatmap"
           }
          ],
          "heatmapgl": [
           {
            "colorbar": {
             "outlinewidth": 0,
             "ticks": ""
            },
            "colorscale": [
             [
              0,
              "#0d0887"
             ],
             [
              0.1111111111111111,
              "#46039f"
             ],
             [
              0.2222222222222222,
              "#7201a8"
             ],
             [
              0.3333333333333333,
              "#9c179e"
             ],
             [
              0.4444444444444444,
              "#bd3786"
             ],
             [
              0.5555555555555556,
              "#d8576b"
             ],
             [
              0.6666666666666666,
              "#ed7953"
             ],
             [
              0.7777777777777778,
              "#fb9f3a"
             ],
             [
              0.8888888888888888,
              "#fdca26"
             ],
             [
              1,
              "#f0f921"
             ]
            ],
            "type": "heatmapgl"
           }
          ],
          "histogram": [
           {
            "marker": {
             "pattern": {
              "fillmode": "overlay",
              "size": 10,
              "solidity": 0.2
             }
            },
            "type": "histogram"
           }
          ],
          "histogram2d": [
           {
            "colorbar": {
             "outlinewidth": 0,
             "ticks": ""
            },
            "colorscale": [
             [
              0,
              "#0d0887"
             ],
             [
              0.1111111111111111,
              "#46039f"
             ],
             [
              0.2222222222222222,
              "#7201a8"
             ],
             [
              0.3333333333333333,
              "#9c179e"
             ],
             [
              0.4444444444444444,
              "#bd3786"
             ],
             [
              0.5555555555555556,
              "#d8576b"
             ],
             [
              0.6666666666666666,
              "#ed7953"
             ],
             [
              0.7777777777777778,
              "#fb9f3a"
             ],
             [
              0.8888888888888888,
              "#fdca26"
             ],
             [
              1,
              "#f0f921"
             ]
            ],
            "type": "histogram2d"
           }
          ],
          "histogram2dcontour": [
           {
            "colorbar": {
             "outlinewidth": 0,
             "ticks": ""
            },
            "colorscale": [
             [
              0,
              "#0d0887"
             ],
             [
              0.1111111111111111,
              "#46039f"
             ],
             [
              0.2222222222222222,
              "#7201a8"
             ],
             [
              0.3333333333333333,
              "#9c179e"
             ],
             [
              0.4444444444444444,
              "#bd3786"
             ],
             [
              0.5555555555555556,
              "#d8576b"
             ],
             [
              0.6666666666666666,
              "#ed7953"
             ],
             [
              0.7777777777777778,
              "#fb9f3a"
             ],
             [
              0.8888888888888888,
              "#fdca26"
             ],
             [
              1,
              "#f0f921"
             ]
            ],
            "type": "histogram2dcontour"
           }
          ],
          "mesh3d": [
           {
            "colorbar": {
             "outlinewidth": 0,
             "ticks": ""
            },
            "type": "mesh3d"
           }
          ],
          "parcoords": [
           {
            "line": {
             "colorbar": {
              "outlinewidth": 0,
              "ticks": ""
             }
            },
            "type": "parcoords"
           }
          ],
          "pie": [
           {
            "automargin": true,
            "type": "pie"
           }
          ],
          "scatter": [
           {
            "fillpattern": {
             "fillmode": "overlay",
             "size": 10,
             "solidity": 0.2
            },
            "type": "scatter"
           }
          ],
          "scatter3d": [
           {
            "line": {
             "colorbar": {
              "outlinewidth": 0,
              "ticks": ""
             }
            },
            "marker": {
             "colorbar": {
              "outlinewidth": 0,
              "ticks": ""
             }
            },
            "type": "scatter3d"
           }
          ],
          "scattercarpet": [
           {
            "marker": {
             "colorbar": {
              "outlinewidth": 0,
              "ticks": ""
             }
            },
            "type": "scattercarpet"
           }
          ],
          "scattergeo": [
           {
            "marker": {
             "colorbar": {
              "outlinewidth": 0,
              "ticks": ""
             }
            },
            "type": "scattergeo"
           }
          ],
          "scattergl": [
           {
            "marker": {
             "colorbar": {
              "outlinewidth": 0,
              "ticks": ""
             }
            },
            "type": "scattergl"
           }
          ],
          "scattermapbox": [
           {
            "marker": {
             "colorbar": {
              "outlinewidth": 0,
              "ticks": ""
             }
            },
            "type": "scattermapbox"
           }
          ],
          "scatterpolar": [
           {
            "marker": {
             "colorbar": {
              "outlinewidth": 0,
              "ticks": ""
             }
            },
            "type": "scatterpolar"
           }
          ],
          "scatterpolargl": [
           {
            "marker": {
             "colorbar": {
              "outlinewidth": 0,
              "ticks": ""
             }
            },
            "type": "scatterpolargl"
           }
          ],
          "scatterternary": [
           {
            "marker": {
             "colorbar": {
              "outlinewidth": 0,
              "ticks": ""
             }
            },
            "type": "scatterternary"
           }
          ],
          "surface": [
           {
            "colorbar": {
             "outlinewidth": 0,
             "ticks": ""
            },
            "colorscale": [
             [
              0,
              "#0d0887"
             ],
             [
              0.1111111111111111,
              "#46039f"
             ],
             [
              0.2222222222222222,
              "#7201a8"
             ],
             [
              0.3333333333333333,
              "#9c179e"
             ],
             [
              0.4444444444444444,
              "#bd3786"
             ],
             [
              0.5555555555555556,
              "#d8576b"
             ],
             [
              0.6666666666666666,
              "#ed7953"
             ],
             [
              0.7777777777777778,
              "#fb9f3a"
             ],
             [
              0.8888888888888888,
              "#fdca26"
             ],
             [
              1,
              "#f0f921"
             ]
            ],
            "type": "surface"
           }
          ],
          "table": [
           {
            "cells": {
             "fill": {
              "color": "#EBF0F8"
             },
             "line": {
              "color": "white"
             }
            },
            "header": {
             "fill": {
              "color": "#C8D4E3"
             },
             "line": {
              "color": "white"
             }
            },
            "type": "table"
           }
          ]
         },
         "layout": {
          "annotationdefaults": {
           "arrowcolor": "#2a3f5f",
           "arrowhead": 0,
           "arrowwidth": 1
          },
          "autotypenumbers": "strict",
          "coloraxis": {
           "colorbar": {
            "outlinewidth": 0,
            "ticks": ""
           }
          },
          "colorscale": {
           "diverging": [
            [
             0,
             "#8e0152"
            ],
            [
             0.1,
             "#c51b7d"
            ],
            [
             0.2,
             "#de77ae"
            ],
            [
             0.3,
             "#f1b6da"
            ],
            [
             0.4,
             "#fde0ef"
            ],
            [
             0.5,
             "#f7f7f7"
            ],
            [
             0.6,
             "#e6f5d0"
            ],
            [
             0.7,
             "#b8e186"
            ],
            [
             0.8,
             "#7fbc41"
            ],
            [
             0.9,
             "#4d9221"
            ],
            [
             1,
             "#276419"
            ]
           ],
           "sequential": [
            [
             0,
             "#0d0887"
            ],
            [
             0.1111111111111111,
             "#46039f"
            ],
            [
             0.2222222222222222,
             "#7201a8"
            ],
            [
             0.3333333333333333,
             "#9c179e"
            ],
            [
             0.4444444444444444,
             "#bd3786"
            ],
            [
             0.5555555555555556,
             "#d8576b"
            ],
            [
             0.6666666666666666,
             "#ed7953"
            ],
            [
             0.7777777777777778,
             "#fb9f3a"
            ],
            [
             0.8888888888888888,
             "#fdca26"
            ],
            [
             1,
             "#f0f921"
            ]
           ],
           "sequentialminus": [
            [
             0,
             "#0d0887"
            ],
            [
             0.1111111111111111,
             "#46039f"
            ],
            [
             0.2222222222222222,
             "#7201a8"
            ],
            [
             0.3333333333333333,
             "#9c179e"
            ],
            [
             0.4444444444444444,
             "#bd3786"
            ],
            [
             0.5555555555555556,
             "#d8576b"
            ],
            [
             0.6666666666666666,
             "#ed7953"
            ],
            [
             0.7777777777777778,
             "#fb9f3a"
            ],
            [
             0.8888888888888888,
             "#fdca26"
            ],
            [
             1,
             "#f0f921"
            ]
           ]
          },
          "colorway": [
           "#636efa",
           "#EF553B",
           "#00cc96",
           "#ab63fa",
           "#FFA15A",
           "#19d3f3",
           "#FF6692",
           "#B6E880",
           "#FF97FF",
           "#FECB52"
          ],
          "font": {
           "color": "#2a3f5f"
          },
          "geo": {
           "bgcolor": "white",
           "lakecolor": "white",
           "landcolor": "#E5ECF6",
           "showlakes": true,
           "showland": true,
           "subunitcolor": "white"
          },
          "hoverlabel": {
           "align": "left"
          },
          "hovermode": "closest",
          "mapbox": {
           "style": "light"
          },
          "paper_bgcolor": "white",
          "plot_bgcolor": "#E5ECF6",
          "polar": {
           "angularaxis": {
            "gridcolor": "white",
            "linecolor": "white",
            "ticks": ""
           },
           "bgcolor": "#E5ECF6",
           "radialaxis": {
            "gridcolor": "white",
            "linecolor": "white",
            "ticks": ""
           }
          },
          "scene": {
           "xaxis": {
            "backgroundcolor": "#E5ECF6",
            "gridcolor": "white",
            "gridwidth": 2,
            "linecolor": "white",
            "showbackground": true,
            "ticks": "",
            "zerolinecolor": "white"
           },
           "yaxis": {
            "backgroundcolor": "#E5ECF6",
            "gridcolor": "white",
            "gridwidth": 2,
            "linecolor": "white",
            "showbackground": true,
            "ticks": "",
            "zerolinecolor": "white"
           },
           "zaxis": {
            "backgroundcolor": "#E5ECF6",
            "gridcolor": "white",
            "gridwidth": 2,
            "linecolor": "white",
            "showbackground": true,
            "ticks": "",
            "zerolinecolor": "white"
           }
          },
          "shapedefaults": {
           "line": {
            "color": "#2a3f5f"
           }
          },
          "ternary": {
           "aaxis": {
            "gridcolor": "white",
            "linecolor": "white",
            "ticks": ""
           },
           "baxis": {
            "gridcolor": "white",
            "linecolor": "white",
            "ticks": ""
           },
           "bgcolor": "#E5ECF6",
           "caxis": {
            "gridcolor": "white",
            "linecolor": "white",
            "ticks": ""
           }
          },
          "title": {
           "x": 0.05
          },
          "xaxis": {
           "automargin": true,
           "gridcolor": "white",
           "linecolor": "white",
           "ticks": "",
           "title": {
            "standoff": 15
           },
           "zerolinecolor": "white",
           "zerolinewidth": 2
          },
          "yaxis": {
           "automargin": true,
           "gridcolor": "white",
           "linecolor": "white",
           "ticks": "",
           "title": {
            "standoff": 15
           },
           "zerolinecolor": "white",
           "zerolinewidth": 2
          }
         }
        },
        "title": {
         "text": "3D Scatter Plot"
        },
        "width": 800
       }
      },
      "image/png": "[encoded data removed]",
      "text/html": [
       "<div>                            <div id=\"554d591a-5e6f-4703-8667-937b39de230b\" class=\"plotly-graph-div\" style=\"height:800px; width:800px;\"></div>            <script type=\"text/javascript\">                require([\"plotly\"], function(Plotly) {                    window.PLOTLYENV=window.PLOTLYENV || {};                                    if (document.getElementById(\"554d591a-5e6f-4703-8667-937b39de230b\")) {                    Plotly.newPlot(                        \"554d591a-5e6f-4703-8667-937b39de230b\",                        [{\"marker\":{\"opacity\":0.8,\"size\":5},\"mode\":\"markers\",\"x\":[0.0,0.0,0.0,0.0,0.0,0.0,0.0,0.0,0.0,0.0,0.0,0.35,0.35,0.35,0.35,0.35,0.35,0.35,0.35,0.35,0.35,0.35,0.15,0.15,0.15,0.15,0.15,0.15,0.15,0.15,0.15,0.15,0.15,0.4,0.4,0.4,0.4,0.4,0.4,0.4,0.4,0.4,0.4,0.4,0.5,0.5,0.5,0.5,0.5,0.5,0.5,0.5,0.5,0.5,0.5,0.3,0.3,0.3,0.3,0.3,0.3,0.3,0.3,0.3,0.3,0.3,0.1,0.1,0.1,0.1,0.1,0.1,0.1,0.1,0.1,0.1,0.1,0.2,0.2,0.2,0.2,0.2,0.2,0.2,0.2,0.2,0.2,0.2,0.45,0.45,0.45,0.45,0.45,0.45,0.45,0.45,0.45,0.45,0.45,0.05,0.05,0.05,0.05,0.05,0.05,0.05,0.05,0.05,0.05,0.05,0.25,0.25,0.25,0.25,0.25,0.25,0.25,0.25,0.25,0.25,0.25],\"y\":[0.04,0.005,0.01,0.0,0.05,0.035,0.025,0.03,0.02,0.015,0.045,0.04,0.005,0.01,0.0,0.05,0.035,0.025,0.03,0.02,0.015,0.045,0.04,0.005,0.01,0.0,0.05,0.035,0.025,0.03,0.02,0.015,0.045,0.04,0.005,0.01,0.0,0.05,0.035,0.025,0.03,0.02,0.015,0.045,0.04,0.005,0.01,0.0,0.05,0.035,0.025,0.03,0.02,0.015,0.045,0.04,0.005,0.01,0.0,0.05,0.035,0.025,0.03,0.02,0.015,0.045,0.04,0.005,0.01,0.0,0.05,0.035,0.025,0.03,0.02,0.015,0.045,0.04,0.005,0.01,0.0,0.05,0.035,0.025,0.03,0.02,0.015,0.045,0.04,0.005,0.01,0.0,0.05,0.035,0.025,0.03,0.02,0.015,0.045,0.04,0.005,0.01,0.0,0.05,0.035,0.025,0.03,0.02,0.015,0.045,0.04,0.005,0.01,0.0,0.05,0.035,0.025,0.03,0.02,0.015,0.045],\"z\":[-0.007644066693220274,-0.0075994873194373215,-0.007537547382739162,-0.007607785371930164,-0.00769027913966046,-0.0076376404818768225,-0.007609914224680327,-0.007621089176808275,-0.007567522758955947,-0.007596799194201718,-0.007599809987414429,-0.0076269694432194255,-0.007669393131100719,-0.0076453210941220305,-0.007680649238789496,-0.007643440469148146,-0.007672441815346142,-0.007656822224208898,-0.007591857335105912,-0.007677939747034152,-0.00767949101345144,-0.007586502279866508,-0.007540900545903821,-0.0076364960372382,-0.00747707433896644,-0.007546815994963495,-0.007594458323973134,-0.007567395107611178,-0.007632947727054261,-0.007632040712298055,-0.007596816356780903,-0.007565876702930167,-0.007660490293019681,-0.007666880878200402,-0.007697815186806926,-0.00764714742534542,-0.007631509564390286,-0.007681112810375963,-0.007671989249456745,-0.007641942424233599,-0.007677264331519567,-0.007675363716481954,-0.0076701536339693,-0.0076426084695098255,-0.007620208797775615,-0.007672468244236492,-0.007668045245226119,-0.007616672551942324,-0.007649227831296489,-0.007662373929793097,-0.007590259958298006,-0.007649811847107284,-0.007700292896921084,-0.007683969455778724,-0.007615576591123738,-0.007662969295415218,-0.007655155615830337,-0.007671575632347145,-0.007651034754742271,-0.007565743058483298,-0.007665522226538553,-0.007617655278204393,-0.0076599217107136495,-0.007607874161228473,-0.007669371162424969,-0.007674407936885025,-0.007632736165590449,-0.007631973076700912,-0.007553261340804053,-0.007643908873214844,-0.007664545449407776,-0.007579300395405525,-0.0076250203670379735,-0.007597946551349621,-0.007577051922769618,-0.007614919667857473,-0.007662548587461633,-0.007656527504425145,-0.0075563015942317745,-0.0076577077239654385,-0.0075923433721160494,-0.007645935008481402,-0.007650750590969679,-0.007596007857366578,-0.007650231236900389,-0.007575497059639126,-0.007632341356850821,-0.007597130646361943,-0.007643553558255816,-0.007692348466436774,-0.007659385756922944,-0.007663288361506562,-0.007606576551560916,-0.007622905455739503,-0.007640826032171131,-0.007677813733782699,-0.0076120904333811116,-0.007618242771856815,-0.0076829839153821555,-0.007614114093197117,-0.007499868447566785,-0.007602526282171419,-0.007607385723116356,-0.007664384903463599,-0.007635371592341874,-0.0075825500509252375,-0.007583005291247767,-0.007549926887355127,-0.007529851788363556,-0.0076211295581118735,-0.007588800579514847,-0.007603642226556322,-0.007627626502468173,-0.007596903508522372,-0.007642642038369851,-0.007582694681366651,-0.007618579964447531,-0.0076074141626299874,-0.007617368174971687,-0.007629820600263138,-0.007665909889518599],\"type\":\"scatter3d\"}],                        {\"template\":{\"data\":{\"histogram2dcontour\":[{\"type\":\"histogram2dcontour\",\"colorbar\":{\"outlinewidth\":0,\"ticks\":\"\"},\"colorscale\":[[0.0,\"#0d0887\"],[0.1111111111111111,\"#46039f\"],[0.2222222222222222,\"#7201a8\"],[0.3333333333333333,\"#9c179e\"],[0.4444444444444444,\"#bd3786\"],[0.5555555555555556,\"#d8576b\"],[0.6666666666666666,\"#ed7953\"],[0.7777777777777778,\"#fb9f3a\"],[0.8888888888888888,\"#fdca26\"],[1.0,\"#f0f921\"]]}],\"choropleth\":[{\"type\":\"choropleth\",\"colorbar\":{\"outlinewidth\":0,\"ticks\":\"\"}}],\"histogram2d\":[{\"type\":\"histogram2d\",\"colorbar\":{\"outlinewidth\":0,\"ticks\":\"\"},\"colorscale\":[[0.0,\"#0d0887\"],[0.1111111111111111,\"#46039f\"],[0.2222222222222222,\"#7201a8\"],[0.3333333333333333,\"#9c179e\"],[0.4444444444444444,\"#bd3786\"],[0.5555555555555556,\"#d8576b\"],[0.6666666666666666,\"#ed7953\"],[0.7777777777777778,\"#fb9f3a\"],[0.8888888888888888,\"#fdca26\"],[1.0,\"#f0f921\"]]}],\"heatmap\":[{\"type\":\"heatmap\",\"colorbar\":{\"outlinewidth\":0,\"ticks\":\"\"},\"colorscale\":[[0.0,\"#0d0887\"],[0.1111111111111111,\"#46039f\"],[0.2222222222222222,\"#7201a8\"],[0.3333333333333333,\"#9c179e\"],[0.4444444444444444,\"#bd3786\"],[0.5555555555555556,\"#d8576b\"],[0.6666666666666666,\"#ed7953\"],[0.7777777777777778,\"#fb9f3a\"],[0.8888888888888888,\"#fdca26\"],[1.0,\"#f0f921\"]]}],\"heatmapgl\":[{\"type\":\"heatmapgl\",\"colorbar\":{\"outlinewidth\":0,\"ticks\":\"\"},\"colorscale\":[[0.0,\"#0d0887\"],[0.1111111111111111,\"#46039f\"],[0.2222222222222222,\"#7201a8\"],[0.3333333333333333,\"#9c179e\"],[0.4444444444444444,\"#bd3786\"],[0.5555555555555556,\"#d8576b\"],[0.6666666666666666,\"#ed7953\"],[0.7777777777777778,\"#fb9f3a\"],[0.8888888888888888,\"#fdca26\"],[1.0,\"#f0f921\"]]}],\"contourcarpet\":[{\"type\":\"contourcarpet\",\"colorbar\":{\"outlinewidth\":0,\"ticks\":\"\"}}],\"contour\":[{\"type\":\"contour\",\"colorbar\":{\"outlinewidth\":0,\"ticks\":\"\"},\"colorscale\":[[0.0,\"#0d0887\"],[0.1111111111111111,\"#46039f\"],[0.2222222222222222,\"#7201a8\"],[0.3333333333333333,\"#9c179e\"],[0.4444444444444444,\"#bd3786\"],[0.5555555555555556,\"#d8576b\"],[0.6666666666666666,\"#ed7953\"],[0.7777777777777778,\"#fb9f3a\"],[0.8888888888888888,\"#fdca26\"],[1.0,\"#f0f921\"]]}],\"surface\":[{\"type\":\"surface\",\"colorbar\":{\"outlinewidth\":0,\"ticks\":\"\"},\"colorscale\":[[0.0,\"#0d0887\"],[0.1111111111111111,\"#46039f\"],[0.2222222222222222,\"#7201a8\"],[0.3333333333333333,\"#9c179e\"],[0.4444444444444444,\"#bd3786\"],[0.5555555555555556,\"#d8576b\"],[0.6666666666666666,\"#ed7953\"],[0.7777777777777778,\"#fb9f3a\"],[0.8888888888888888,\"#fdca26\"],[1.0,\"#f0f921\"]]}],\"mesh3d\":[{\"type\":\"mesh3d\",\"colorbar\":{\"outlinewidth\":0,\"ticks\":\"\"}}],\"scatter\":[{\"fillpattern\":{\"fillmode\":\"overlay\",\"size\":10,\"solidity\":0.2},\"type\":\"scatter\"}],\"parcoords\":[{\"type\":\"parcoords\",\"line\":{\"colorbar\":{\"outlinewidth\":0,\"ticks\":\"\"}}}],\"scatterpolargl\":[{\"type\":\"scatterpolargl\",\"marker\":{\"colorbar\":{\"outlinewidth\":0,\"ticks\":\"\"}}}],\"bar\":[{\"error_x\":{\"color\":\"#2a3f5f\"},\"error_y\":{\"color\":\"#2a3f5f\"},\"marker\":{\"line\":{\"color\":\"#E5ECF6\",\"width\":0.5},\"pattern\":{\"fillmode\":\"overlay\",\"size\":10,\"solidity\":0.2}},\"type\":\"bar\"}],\"scattergeo\":[{\"type\":\"scattergeo\",\"marker\":{\"colorbar\":{\"outlinewidth\":0,\"ticks\":\"\"}}}],\"scatterpolar\":[{\"type\":\"scatterpolar\",\"marker\":{\"colorbar\":{\"outlinewidth\":0,\"ticks\":\"\"}}}],\"histogram\":[{\"marker\":{\"pattern\":{\"fillmode\":\"overlay\",\"size\":10,\"solidity\":0.2}},\"type\":\"histogram\"}],\"scattergl\":[{\"type\":\"scattergl\",\"marker\":{\"colorbar\":{\"outlinewidth\":0,\"ticks\":\"\"}}}],\"scatter3d\":[{\"type\":\"scatter3d\",\"line\":{\"colorbar\":{\"outlinewidth\":0,\"ticks\":\"\"}},\"marker\":{\"colorbar\":{\"outlinewidth\":0,\"ticks\":\"\"}}}],\"scattermapbox\":[{\"type\":\"scattermapbox\",\"marker\":{\"colorbar\":{\"outlinewidth\":0,\"ticks\":\"\"}}}],\"scatterternary\":[{\"type\":\"scatterternary\",\"marker\":{\"colorbar\":{\"outlinewidth\":0,\"ticks\":\"\"}}}],\"scattercarpet\":[{\"type\":\"scattercarpet\",\"marker\":{\"colorbar\":{\"outlinewidth\":0,\"ticks\":\"\"}}}],\"carpet\":[{\"aaxis\":{\"endlinecolor\":\"#2a3f5f\",\"gridcolor\":\"white\",\"linecolor\":\"white\",\"minorgridcolor\":\"white\",\"startlinecolor\":\"#2a3f5f\"},\"baxis\":{\"endlinecolor\":\"#2a3f5f\",\"gridcolor\":\"white\",\"linecolor\":\"white\",\"minorgridcolor\":\"white\",\"startlinecolor\":\"#2a3f5f\"},\"type\":\"carpet\"}],\"table\":[{\"cells\":{\"fill\":{\"color\":\"#EBF0F8\"},\"line\":{\"color\":\"white\"}},\"header\":{\"fill\":{\"color\":\"#C8D4E3\"},\"line\":{\"color\":\"white\"}},\"type\":\"table\"}],\"barpolar\":[{\"marker\":{\"line\":{\"color\":\"#E5ECF6\",\"width\":0.5},\"pattern\":{\"fillmode\":\"overlay\",\"size\":10,\"solidity\":0.2}},\"type\":\"barpolar\"}],\"pie\":[{\"automargin\":true,\"type\":\"pie\"}]},\"layout\":{\"autotypenumbers\":\"strict\",\"colorway\":[\"#636efa\",\"#EF553B\",\"#00cc96\",\"#ab63fa\",\"#FFA15A\",\"#19d3f3\",\"#FF6692\",\"#B6E880\",\"#FF97FF\",\"#FECB52\"],\"font\":{\"color\":\"#2a3f5f\"},\"hovermode\":\"closest\",\"hoverlabel\":{\"align\":\"left\"},\"paper_bgcolor\":\"white\",\"plot_bgcolor\":\"#E5ECF6\",\"polar\":{\"bgcolor\":\"#E5ECF6\",\"angularaxis\":{\"gridcolor\":\"white\",\"linecolor\":\"white\",\"ticks\":\"\"},\"radialaxis\":{\"gridcolor\":\"white\",\"linecolor\":\"white\",\"ticks\":\"\"}},\"ternary\":{\"bgcolor\":\"#E5ECF6\",\"aaxis\":{\"gridcolor\":\"white\",\"linecolor\":\"white\",\"ticks\":\"\"},\"baxis\":{\"gridcolor\":\"white\",\"linecolor\":\"white\",\"ticks\":\"\"},\"caxis\":{\"gridcolor\":\"white\",\"linecolor\":\"white\",\"ticks\":\"\"}},\"coloraxis\":{\"colorbar\":{\"outlinewidth\":0,\"ticks\":\"\"}},\"colorscale\":{\"sequential\":[[0.0,\"#0d0887\"],[0.1111111111111111,\"#46039f\"],[0.2222222222222222,\"#7201a8\"],[0.3333333333333333,\"#9c179e\"],[0.4444444444444444,\"#bd3786\"],[0.5555555555555556,\"#d8576b\"],[0.6666666666666666,\"#ed7953\"],[0.7777777777777778,\"#fb9f3a\"],[0.8888888888888888,\"#fdca26\"],[1.0,\"#f0f921\"]],\"sequentialminus\":[[0.0,\"#0d0887\"],[0.1111111111111111,\"#46039f\"],[0.2222222222222222,\"#7201a8\"],[0.3333333333333333,\"#9c179e\"],[0.4444444444444444,\"#bd3786\"],[0.5555555555555556,\"#d8576b\"],[0.6666666666666666,\"#ed7953\"],[0.7777777777777778,\"#fb9f3a\"],[0.8888888888888888,\"#fdca26\"],[1.0,\"#f0f921\"]],\"diverging\":[[0,\"#8e0152\"],[0.1,\"#c51b7d\"],[0.2,\"#de77ae\"],[0.3,\"#f1b6da\"],[0.4,\"#fde0ef\"],[0.5,\"#f7f7f7\"],[0.6,\"#e6f5d0\"],[0.7,\"#b8e186\"],[0.8,\"#7fbc41\"],[0.9,\"#4d9221\"],[1,\"#276419\"]]},\"xaxis\":{\"gridcolor\":\"white\",\"linecolor\":\"white\",\"ticks\":\"\",\"title\":{\"standoff\":15},\"zerolinecolor\":\"white\",\"automargin\":true,\"zerolinewidth\":2},\"yaxis\":{\"gridcolor\":\"white\",\"linecolor\":\"white\",\"ticks\":\"\",\"title\":{\"standoff\":15},\"zerolinecolor\":\"white\",\"automargin\":true,\"zerolinewidth\":2},\"scene\":{\"xaxis\":{\"backgroundcolor\":\"#E5ECF6\",\"gridcolor\":\"white\",\"linecolor\":\"white\",\"showbackground\":true,\"ticks\":\"\",\"zerolinecolor\":\"white\",\"gridwidth\":2},\"yaxis\":{\"backgroundcolor\":\"#E5ECF6\",\"gridcolor\":\"white\",\"linecolor\":\"white\",\"showbackground\":true,\"ticks\":\"\",\"zerolinecolor\":\"white\",\"gridwidth\":2},\"zaxis\":{\"backgroundcolor\":\"#E5ECF6\",\"gridcolor\":\"white\",\"linecolor\":\"white\",\"showbackground\":true,\"ticks\":\"\",\"zerolinecolor\":\"white\",\"gridwidth\":2}},\"shapedefaults\":{\"line\":{\"color\":\"#2a3f5f\"}},\"annotationdefaults\":{\"arrowcolor\":\"#2a3f5f\",\"arrowhead\":0,\"arrowwidth\":1},\"geo\":{\"bgcolor\":\"white\",\"landcolor\":\"#E5ECF6\",\"subunitcolor\":\"white\",\"showland\":true,\"showlakes\":true,\"lakecolor\":\"white\"},\"title\":{\"x\":0.05},\"mapbox\":{\"style\":\"light\"}}},\"width\":800,\"height\":800,\"scene\":{\"xaxis\":{\"title\":{\"text\":\"Coverd\"}},\"yaxis\":{\"title\":{\"text\":\"Naked\"}},\"zaxis\":{\"title\":{\"text\":\"Median\"}}},\"title\":{\"text\":\"3D Scatter Plot\"}},                        {\"responsive\": true}                    ).then(function(){\n",
       "                            \n",
       "var gd = document.getElementById('554d591a-5e6f-4703-8667-937b39de230b');\n",
       "var x = new MutationObserver(function (mutations, observer) {{\n",
       "        var display = window.getComputedStyle(gd).display;\n",
       "        if (!display || display === 'none') {{\n",
       "            console.log([gd, 'removed!']);\n",
       "            Plotly.purge(gd);\n",
       "            observer.disconnect();\n",
       "        }}\n",
       "}});\n",
       "\n",
       "// Listen for the removal of the full notebook cells\n",
       "var notebookContainer = gd.closest('#notebook-container');\n",
       "if (notebookContainer) {{\n",
       "    x.observe(notebookContainer, {childList: true});\n",
       "}}\n",
       "\n",
       "// Listen for the clearing of the current output cell\n",
       "var outputEl = gd.closest('.output');\n",
       "if (outputEl) {{\n",
       "    x.observe(outputEl, {childList: true});\n",
       "}}\n",
       "\n",
       "                        })                };                });            </script>        </div>"
      ]
     },
     "metadata": {},
     "output_type": "display_data"
    }
   ],
   "source": [
    "import plotly.graph_objects as go\n",
    "import pandas as pd\n",
    "\n",
    "# Assuming 'df' is your DataFrame\n",
    "# df = pd.DataFrame(...) # Load your data here\n",
    "\n",
    "# Create a 3D scatter plot\n",
    "fig = go.Figure(data=[go.Scatter3d(\n",
    "    x=res_data['covered'],\n",
    "    y=res_data['naked'],\n",
    "    z=res_data['median_av'],\n",
    "    mode='markers',\n",
    "    marker=dict(\n",
    "        size=5,\n",
    "        opacity=0.8\n",
    "    )\n",
    ")])\n",
    "\n",
    "# Adding labels and title\n",
    "fig.update_layout(\n",
    "    width=800,  # Width in pixels\n",
    "    height=800,\n",
    "    scene = dict(\n",
    "        xaxis_title='Coverd',\n",
    "        yaxis_title='Naked',\n",
    "        zaxis_title='Median'),\n",
    "    title=\"3D Scatter Plot\"\n",
    ")\n",
    "\n",
    "# Show plot\n",
    "fig.show()\n"
   ]
  },
  {
   "cell_type": "code",
   "execution_count": null,
   "id": "6c1e9e52-429a-434f-810f-1324879db2fa",
   "metadata": {},
   "outputs": [],
   "source": []
  }
 ],
 "metadata": {
  "kernelspec": {
   "display_name": "Python 3 (ipykernel)",
   "language": "python",
   "name": "python3"
  },
  "language_info": {
   "codemirror_mode": {
    "name": "ipython",
    "version": 3
   },
   "file_extension": ".py",
   "mimetype": "text/x-python",
   "name": "python",
   "nbconvert_exporter": "python",
   "pygments_lexer": "ipython3",
   "version": "3.11.5"
  }
 },
 "nbformat": 4,
 "nbformat_minor": 5
}
