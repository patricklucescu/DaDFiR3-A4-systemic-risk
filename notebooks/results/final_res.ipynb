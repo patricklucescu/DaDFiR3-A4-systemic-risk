{
 "cells": [
  {
   "cell_type": "code",
   "execution_count": 1,
   "id": "5ea6e488-567a-4039-a831-e09a8a63c756",
   "metadata": {},
   "outputs": [
    {
     "ename": "ImportError",
     "evalue": "Failed to initialize: Bad git executable.\nThe git executable must be specified in one of the following ways:\n    - be included in your $PATH\n    - be set via $GIT_PYTHON_GIT_EXECUTABLE\n    - explicitly set via git.refresh(<full-path-to-git-executable>)\n\nAll git commands will error until this is rectified.\n\nThis initial message can be silenced or aggravated in the future by setting the\n$GIT_PYTHON_REFRESH environment variable. Use one of the following values:\n    - quiet|q|silence|s|silent|none|n|0: for no message or exception\n    - warn|w|warning|log|l|1: for a warning message (logging level CRITICAL, displayed by default)\n    - error|e|exception|raise|r|2: for a raised exception\n\nExample:\n    export GIT_PYTHON_REFRESH=quiet\n",
     "output_type": "error",
     "traceback": [
      "\u001b[0;31m---------------------------------------------------------------------------\u001b[0m",
      "\u001b[0;31mImportError\u001b[0m                               Traceback (most recent call last)",
      "File \u001b[0;32m~/Downloads/yes/lib/python3.12/site-packages/git/__init__.py:296\u001b[0m\n\u001b[1;32m    295\u001b[0m \u001b[38;5;28;01mtry\u001b[39;00m:\n\u001b[0;32m--> 296\u001b[0m     refresh()\n\u001b[1;32m    297\u001b[0m \u001b[38;5;28;01mexcept\u001b[39;00m \u001b[38;5;167;01mException\u001b[39;00m \u001b[38;5;28;01mas\u001b[39;00m _exc:\n",
      "File \u001b[0;32m~/Downloads/yes/lib/python3.12/site-packages/git/__init__.py:287\u001b[0m, in \u001b[0;36mrefresh\u001b[0;34m(path)\u001b[0m\n\u001b[1;32m    285\u001b[0m GIT_OK \u001b[38;5;241m=\u001b[39m \u001b[38;5;28;01mFalse\u001b[39;00m\n\u001b[0;32m--> 287\u001b[0m \u001b[38;5;28;01mif\u001b[39;00m \u001b[38;5;129;01mnot\u001b[39;00m Git\u001b[38;5;241m.\u001b[39mrefresh(path\u001b[38;5;241m=\u001b[39mpath):\n\u001b[1;32m    288\u001b[0m     \u001b[38;5;28;01mreturn\u001b[39;00m\n",
      "File \u001b[0;32m~/Downloads/yes/lib/python3.12/site-packages/git/cmd.py:631\u001b[0m, in \u001b[0;36mGit.refresh\u001b[0;34m(cls, path)\u001b[0m\n\u001b[1;32m    630\u001b[0m     \u001b[38;5;28;01melse\u001b[39;00m:\n\u001b[0;32m--> 631\u001b[0m         \u001b[38;5;28;01mraise\u001b[39;00m \u001b[38;5;167;01mImportError\u001b[39;00m(err)\n\u001b[1;32m    632\u001b[0m \u001b[38;5;28;01melse\u001b[39;00m:\n",
      "\u001b[0;31mImportError\u001b[0m: Bad git executable.\nThe git executable must be specified in one of the following ways:\n    - be included in your $PATH\n    - be set via $GIT_PYTHON_GIT_EXECUTABLE\n    - explicitly set via git.refresh(<full-path-to-git-executable>)\n\nAll git commands will error until this is rectified.\n\nThis initial message can be silenced or aggravated in the future by setting the\n$GIT_PYTHON_REFRESH environment variable. Use one of the following values:\n    - quiet|q|silence|s|silent|none|n|0: for no message or exception\n    - warn|w|warning|log|l|1: for a warning message (logging level CRITICAL, displayed by default)\n    - error|e|exception|raise|r|2: for a raised exception\n\nExample:\n    export GIT_PYTHON_REFRESH=quiet\n",
      "\nThe above exception was the direct cause of the following exception:\n",
      "\u001b[0;31mImportError\u001b[0m                               Traceback (most recent call last)",
      "Cell \u001b[0;32mIn[1], line 2\u001b[0m\n\u001b[1;32m      1\u001b[0m \u001b[38;5;28;01mimport\u001b[39;00m \u001b[38;5;21;01mos\u001b[39;00m\n\u001b[0;32m----> 2\u001b[0m \u001b[38;5;28;01mimport\u001b[39;00m \u001b[38;5;21;01mgit\u001b[39;00m\n\u001b[1;32m      3\u001b[0m \u001b[38;5;28;01mimport\u001b[39;00m \u001b[38;5;21;01msys\u001b[39;00m\n\u001b[1;32m      5\u001b[0m git_repo \u001b[38;5;241m=\u001b[39m git\u001b[38;5;241m.\u001b[39mRepo(os\u001b[38;5;241m.\u001b[39mgetcwd(), search_parent_directories\u001b[38;5;241m=\u001b[39m\u001b[38;5;28;01mTrue\u001b[39;00m)\n",
      "File \u001b[0;32m~/Downloads/yes/lib/python3.12/site-packages/git/__init__.py:298\u001b[0m\n\u001b[1;32m    296\u001b[0m     refresh()\n\u001b[1;32m    297\u001b[0m \u001b[38;5;28;01mexcept\u001b[39;00m \u001b[38;5;167;01mException\u001b[39;00m \u001b[38;5;28;01mas\u001b[39;00m _exc:\n\u001b[0;32m--> 298\u001b[0m     \u001b[38;5;28;01mraise\u001b[39;00m \u001b[38;5;167;01mImportError\u001b[39;00m(\u001b[38;5;124m\"\u001b[39m\u001b[38;5;124mFailed to initialize: \u001b[39m\u001b[38;5;132;01m{0}\u001b[39;00m\u001b[38;5;124m\"\u001b[39m\u001b[38;5;241m.\u001b[39mformat(_exc)) \u001b[38;5;28;01mfrom\u001b[39;00m \u001b[38;5;21;01m_exc\u001b[39;00m\n",
      "\u001b[0;31mImportError\u001b[0m: Failed to initialize: Bad git executable.\nThe git executable must be specified in one of the following ways:\n    - be included in your $PATH\n    - be set via $GIT_PYTHON_GIT_EXECUTABLE\n    - explicitly set via git.refresh(<full-path-to-git-executable>)\n\nAll git commands will error until this is rectified.\n\nThis initial message can be silenced or aggravated in the future by setting the\n$GIT_PYTHON_REFRESH environment variable. Use one of the following values:\n    - quiet|q|silence|s|silent|none|n|0: for no message or exception\n    - warn|w|warning|log|l|1: for a warning message (logging level CRITICAL, displayed by default)\n    - error|e|exception|raise|r|2: for a raised exception\n\nExample:\n    export GIT_PYTHON_REFRESH=quiet\n"
     ]
    }
   ],
   "source": [
    "import os\n",
    "import git\n",
    "import sys\n",
    "\n",
    "git_repo = git.Repo(os.getcwd(), search_parent_directories=True)\n",
    "git_root = git_repo.git.rev_parse(\"--show-toplevel\")\n",
    "\n",
    "sys.path.append(git_root)\n",
    "\n",
    "from abm_vec.one_period_sim import run_sim\n",
    "from abm_vec.initialization import get_bank_data\n",
    "from abm_vec.calibration import get_calibration_variables\n",
    "\n",
    "from scipy.optimize import minimize\n",
    "from scipy.stats import kstest\n",
    "import copy\n",
    "import seaborn as sns\n",
    "import matplotlib.pyplot as plt\n",
    "from abm_vec.essentials.util import get_git_root_directory\n",
    "import numpy as np\n",
    "import random\n",
    "from scipy import stats\n",
    "from scipy.stats import anderson_ksamp\n",
    "\n",
    "import statsmodels.api as sm\n",
    "from scipy.stats import pearsonr\n",
    "import pickle\n",
    "import time\n",
    "import pandas as pd\n",
    "from linearmodels import PanelOLS"
   ]
  },
  {
   "cell_type": "code",
   "execution_count": 2,
   "id": "6a225c0c-45c4-4512-85f7-33739e5fa024",
   "metadata": {},
   "outputs": [
    {
     "name": "stdout",
     "output_type": "stream",
     "text": [
      "Collecting GitPython\n",
      "  Downloading GitPython-3.1.43-py3-none-any.whl.metadata (13 kB)\n",
      "Collecting gitdb<5,>=4.0.1 (from GitPython)\n",
      "  Downloading gitdb-4.0.11-py3-none-any.whl.metadata (1.2 kB)\n",
      "Collecting smmap<6,>=3.0.1 (from gitdb<5,>=4.0.1->GitPython)\n",
      "  Downloading smmap-5.0.1-py3-none-any.whl.metadata (4.3 kB)\n",
      "Downloading GitPython-3.1.43-py3-none-any.whl (207 kB)\n",
      "\u001b[2K   \u001b[38;2;114;156;31m━━━━━━━━━━━━━━━━━━━━━━━━━━━━━━━━━━━━━━━\u001b[0m \u001b[32m207.3/207.3 kB\u001b[0m \u001b[31m521.8 kB/s\u001b[0m eta \u001b[36m0:00:00\u001b[0m eta \u001b[36m0:00:01\u001b[0m36m0:00:01\u001b[0m\n",
      "\u001b[?25hDownloading gitdb-4.0.11-py3-none-any.whl (62 kB)\n",
      "\u001b[2K   \u001b[38;2;114;156;31m━━━━━━━━━━━━━━━━━━━━━━━━━━━━━━━━━━━━━━━━\u001b[0m \u001b[32m62.7/62.7 kB\u001b[0m \u001b[31m816.5 kB/s\u001b[0m eta \u001b[36m0:00:00\u001b[0m[36m0:00:01\u001b[0m\n",
      "\u001b[?25hDownloading smmap-5.0.1-py3-none-any.whl (24 kB)\n",
      "Installing collected packages: smmap, gitdb, GitPython\n",
      "Successfully installed GitPython-3.1.43 gitdb-4.0.11 smmap-5.0.1\n",
      "Note: you may need to restart the kernel to use updated packages.\n"
     ]
    }
   ],
   "source": [
    "pip install GitPython"
   ]
  },
  {
   "cell_type": "code",
   "execution_count": 7,
   "id": "a42bcaa6-39cf-462e-95df-5dee7b0521dd",
   "metadata": {},
   "outputs": [],
   "source": [
    "bank_data = get_bank_data()"
   ]
  },
  {
   "cell_type": "code",
   "execution_count": 8,
   "id": "5c54f4d3-13e0-4a1e-9a48-47f379c1fc7c",
   "metadata": {},
   "outputs": [],
   "source": [
    "covered_p = np.linspace(0,0.5, 8)\n",
    "naked_p = np.linspace(0,0.05, 8)\n",
    "\n",
    "deposit = -0.5\n",
    "res_path = os.path.join(git_root, 'saved_results', 'results_0-5')\n",
    "output_file = os.path.join(git_root, 'saved_results', 'res0-5.txt')"
   ]
  },
  {
   "cell_type": "code",
   "execution_count": 10,
   "id": "674ce256-452a-4450-8373-ebe83ffaae72",
   "metadata": {},
   "outputs": [],
   "source": [
    "seeds = random.sample(range(1, 100000), 10000)"
   ]
  },
  {
   "cell_type": "code",
   "execution_count": null,
   "id": "1ba26c03-05f8-4338-b31f-715ca239cefe",
   "metadata": {},
   "outputs": [
    {
     "name": "stdout",
     "output_type": "stream",
     "text": [
      "Start with covered 0.0, naked 0.0, deposit -0.5\n"
     ]
    }
   ],
   "source": [
    "for cov in covered_p:\n",
    "    for naked in naked_p:\n",
    "        print(f'Start with covered {cov}, naked {naked}, deposit {deposit}')\n",
    "        start = time.time()\n",
    "        param = {\n",
    "            \"covered_cds_prob\": cov,\n",
    "            \"naked_cds_prob\": naked,\n",
    "            \"mu_deposit_growth\": deposit\n",
    "            }\n",
    "        res = run_sim(param, copy.deepcopy(bank_data), seeds)\n",
    "        with open(os.path.join(res_path, f\"results_{cov}_{naked}_{deposit}.pkl\"), \"wb\") as f:\n",
    "            pickle.dump(res, f, protocol=pickle.HIGHEST_PROTOCOL)\n",
    "        end = time.time()\n",
    "        print(f' Finished in: {(end-start)/60}')\n",
    "        with open(output_file, 'w') as file:\n",
    "            file.write(f'Start with covered {cov}, naked {naked}, deposit {deposit}\\n')\n",
    "            file.write(f' Finished in: {(end-start)/60}\\n')"
   ]
  },
  {
   "cell_type": "code",
   "execution_count": null,
   "id": "260315da-6e8f-40c1-9725-e9b896f85327",
   "metadata": {},
   "outputs": [],
   "source": [
    "1+1"
   ]
  },
  {
   "cell_type": "code",
   "execution_count": null,
   "id": "50f69fbb-0279-4c4a-8840-7c3cb3ada3cb",
   "metadata": {},
   "outputs": [],
   "source": []
  }
 ],
 "metadata": {
  "kernelspec": {
   "display_name": "Python 3 (ipykernel)",
   "language": "python",
   "name": "python3"
  },
  "language_info": {
   "codemirror_mode": {
    "name": "ipython",
    "version": 3
   },
   "file_extension": ".py",
   "mimetype": "text/x-python",
   "name": "python",
   "nbconvert_exporter": "python",
   "pygments_lexer": "ipython3",
   "version": "3.12.1"
  }
 },
 "nbformat": 4,
 "nbformat_minor": 5
}
