{
 "cells": [
  {
   "cell_type": "code",
   "execution_count": 37,
   "id": "3a34f14f-9639-4e5d-a349-1d6e1f29a1c0",
   "metadata": {
    "tags": []
   },
   "outputs": [],
   "source": [
    "import pandas as pd"
   ]
  },
  {
   "cell_type": "code",
   "execution_count": 38,
   "id": "ea489f53-7a2a-4b25-923a-26a51e08a221",
   "metadata": {
    "tags": []
   },
   "outputs": [],
   "source": [
    "equity_code = 2331010"
   ]
  },
  {
   "cell_type": "code",
   "execution_count": 39,
   "id": "822b4783-a74d-47bc-a590-1a369cf338f2",
   "metadata": {
    "tags": []
   },
   "outputs": [
    {
     "name": "stderr",
     "output_type": "stream",
     "text": [
      "/var/folders/c9/mdyn5q915qzdd068w6dx1gbm0000gp/T/ipykernel_95883/3445877733.py:2: DtypeWarning: Columns (8) have mixed types. Specify dtype option on import or set low_memory=False.\n",
      "  df = pd.read_csv('TRA_OTH.csv')\n"
     ]
    }
   ],
   "source": [
    "# get data for actual figures\n",
    "df = pd.read_csv('TRA_OTH.csv')\n",
    "df = df[df['Scenario'] == 1]\n",
    "df = df[df['Item'] == equity_code]\n",
    "df['Amount'] = df['Amount'].astype(float)\n",
    "df = df.sort_values(by=['Amount'])"
   ]
  },
  {
   "cell_type": "code",
   "execution_count": 40,
   "id": "1ef198e4-185e-48c4-98b7-a6ea595533eb",
   "metadata": {
    "tags": []
   },
   "outputs": [],
   "source": [
    "df.to_excel('bank_equity_data.xlsx')"
   ]
  },
  {
   "cell_type": "code",
   "execution_count": 14,
   "id": "c46f4c2e-63f7-4e6b-be98-4bb34d3db35f",
   "metadata": {
    "tags": []
   },
   "outputs": [],
   "source": [
    "# data\n",
    "loans_public = 345743 * 10 ** 6\n",
    "equity = 27154.31253864 * 10 ** 6\n"
   ]
  },
  {
   "cell_type": "code",
   "execution_count": 16,
   "id": "069942cc-1697-4799-bf5f-8f739c6542a3",
   "metadata": {
    "tags": []
   },
   "outputs": [
    {
     "data": {
      "text/html": [
       "<div>\n",
       "<style scoped>\n",
       "    .dataframe tbody tr th:only-of-type {\n",
       "        vertical-align: middle;\n",
       "    }\n",
       "\n",
       "    .dataframe tbody tr th {\n",
       "        vertical-align: top;\n",
       "    }\n",
       "\n",
       "    .dataframe thead th {\n",
       "        text-align: right;\n",
       "    }\n",
       "</style>\n",
       "<table border=\"1\" class=\"dataframe\">\n",
       "  <thead>\n",
       "    <tr style=\"text-align: right;\">\n",
       "      <th></th>\n",
       "      <th>Country_code</th>\n",
       "      <th>LEI_Code</th>\n",
       "      <th>Bank_name</th>\n",
       "      <th>Period</th>\n",
       "      <th>Item</th>\n",
       "      <th>Scenario</th>\n",
       "      <th>Fact_char</th>\n",
       "      <th>Amount</th>\n",
       "      <th>Footnote</th>\n",
       "    </tr>\n",
       "  </thead>\n",
       "  <tbody>\n",
       "    <tr>\n",
       "      <th>29230</th>\n",
       "      <td>FI</td>\n",
       "      <td>529900ODI3047E2LIV03</td>\n",
       "      <td>Nordea Bank Abp</td>\n",
       "      <td>202212</td>\n",
       "      <td>2331010</td>\n",
       "      <td>1</td>\n",
       "      <td>NaN</td>\n",
       "      <td>27154.31253864</td>\n",
       "      <td>NaN</td>\n",
       "    </tr>\n",
       "  </tbody>\n",
       "</table>\n",
       "</div>"
      ],
      "text/plain": [
       "      Country_code              LEI_Code        Bank_name  Period     Item  \\\n",
       "29230           FI  529900ODI3047E2LIV03  Nordea Bank Abp  202212  2331010   \n",
       "\n",
       "       Scenario Fact_char          Amount Footnote  \n",
       "29230         1       NaN  27154.31253864      NaN  "
      ]
     },
     "execution_count": 16,
     "metadata": {},
     "output_type": "execute_result"
    }
   ],
   "source": [
    "df[df.Bank_name.str.contains('Nordea')]"
   ]
  },
  {
   "cell_type": "code",
   "execution_count": 31,
   "id": "dbdac4e7-1d0f-467a-98e2-0765f9f66472",
   "metadata": {
    "tags": []
   },
   "outputs": [
    {
     "data": {
      "text/html": [
       "<div>\n",
       "<style scoped>\n",
       "    .dataframe tbody tr th:only-of-type {\n",
       "        vertical-align: middle;\n",
       "    }\n",
       "\n",
       "    .dataframe tbody tr th {\n",
       "        vertical-align: top;\n",
       "    }\n",
       "\n",
       "    .dataframe thead th {\n",
       "        text-align: right;\n",
       "    }\n",
       "</style>\n",
       "<table border=\"1\" class=\"dataframe\">\n",
       "  <thead>\n",
       "    <tr style=\"text-align: right;\">\n",
       "      <th></th>\n",
       "      <th>Country_code</th>\n",
       "      <th>LEI_Code</th>\n",
       "      <th>Bank_name</th>\n",
       "      <th>Period</th>\n",
       "      <th>Item</th>\n",
       "      <th>Scenario</th>\n",
       "      <th>Fact_char</th>\n",
       "      <th>Amount</th>\n",
       "      <th>Footnote</th>\n",
       "    </tr>\n",
       "  </thead>\n",
       "  <tbody>\n",
       "    <tr>\n",
       "      <th>20464</th>\n",
       "      <td>DK</td>\n",
       "      <td>GP5DT10VX1QRQUKVBK64</td>\n",
       "      <td>Sydbank A/S</td>\n",
       "      <td>202212</td>\n",
       "      <td>2331010</td>\n",
       "      <td>1</td>\n",
       "      <td>NaN</td>\n",
       "      <td>1509.774500</td>\n",
       "      <td>NaN</td>\n",
       "    </tr>\n",
       "    <tr>\n",
       "      <th>63320</th>\n",
       "      <td>SE</td>\n",
       "      <td>549300C6TUMDXNOVXS82</td>\n",
       "      <td>Länsförsäkringar Bank AB (publ)</td>\n",
       "      <td>202212</td>\n",
       "      <td>2331010</td>\n",
       "      <td>1</td>\n",
       "      <td>NaN</td>\n",
       "      <td>1858.412114</td>\n",
       "      <td>NaN</td>\n",
       "    </tr>\n",
       "    <tr>\n",
       "      <th>64294</th>\n",
       "      <td>SE</td>\n",
       "      <td>H0YX5LBGKDVOWCXBZ594</td>\n",
       "      <td>SBAB Bank AB – group</td>\n",
       "      <td>202212</td>\n",
       "      <td>2331010</td>\n",
       "      <td>1</td>\n",
       "      <td>NaN</td>\n",
       "      <td>2291.936459</td>\n",
       "      <td>NaN</td>\n",
       "    </tr>\n",
       "    <tr>\n",
       "      <th>3906</th>\n",
       "      <td>DE</td>\n",
       "      <td>5299007S3UH5RKUYDA52</td>\n",
       "      <td>Deutsche Apotheker- und Ärztebank eG</td>\n",
       "      <td>202212</td>\n",
       "      <td>2331010</td>\n",
       "      <td>1</td>\n",
       "      <td>NaN</td>\n",
       "      <td>2437.051781</td>\n",
       "      <td>NaN</td>\n",
       "    </tr>\n",
       "    <tr>\n",
       "      <th>57476</th>\n",
       "      <td>NL</td>\n",
       "      <td>724500A1FNICHSDF2I11</td>\n",
       "      <td>de Volksbank N.V.</td>\n",
       "      <td>202212</td>\n",
       "      <td>2331010</td>\n",
       "      <td>1</td>\n",
       "      <td>NaN</td>\n",
       "      <td>3398.892597</td>\n",
       "      <td>NaN</td>\n",
       "    </tr>\n",
       "    <tr>\n",
       "      <th>...</th>\n",
       "      <td>...</td>\n",
       "      <td>...</td>\n",
       "      <td>...</td>\n",
       "      <td>...</td>\n",
       "      <td>...</td>\n",
       "      <td>...</td>\n",
       "      <td>...</td>\n",
       "      <td>...</td>\n",
       "      <td>...</td>\n",
       "    </tr>\n",
       "    <tr>\n",
       "      <th>36048</th>\n",
       "      <td>FR</td>\n",
       "      <td>9695000CG7B84NLR5984</td>\n",
       "      <td>Confédération Nationale du Crédit Mutuel</td>\n",
       "      <td>202212</td>\n",
       "      <td>2331010</td>\n",
       "      <td>1</td>\n",
       "      <td>NaN</td>\n",
       "      <td>62684.060417</td>\n",
       "      <td>NaN</td>\n",
       "    </tr>\n",
       "    <tr>\n",
       "      <th>33126</th>\n",
       "      <td>FR</td>\n",
       "      <td>FR9695005MSX1OYEMGDF</td>\n",
       "      <td>Groupe BPCE</td>\n",
       "      <td>202212</td>\n",
       "      <td>2331010</td>\n",
       "      <td>1</td>\n",
       "      <td>NaN</td>\n",
       "      <td>69664.899296</td>\n",
       "      <td>NaN</td>\n",
       "    </tr>\n",
       "    <tr>\n",
       "      <th>27282</th>\n",
       "      <td>ES</td>\n",
       "      <td>5493006QMFDDMYWIAM13</td>\n",
       "      <td>Banco Santander, S.A.</td>\n",
       "      <td>202212</td>\n",
       "      <td>2331010</td>\n",
       "      <td>1</td>\n",
       "      <td>NaN</td>\n",
       "      <td>83032.867779</td>\n",
       "      <td>NaN</td>\n",
       "    </tr>\n",
       "    <tr>\n",
       "      <th>32152</th>\n",
       "      <td>FR</td>\n",
       "      <td>R0MUWSFPU8MPRO8K5P83</td>\n",
       "      <td>BNP Paribas S.A.</td>\n",
       "      <td>202212</td>\n",
       "      <td>2331010</td>\n",
       "      <td>1</td>\n",
       "      <td>NaN</td>\n",
       "      <td>103444.412508</td>\n",
       "      <td>NaN</td>\n",
       "    </tr>\n",
       "    <tr>\n",
       "      <th>35074</th>\n",
       "      <td>FR</td>\n",
       "      <td>FR969500TJ5KRTCJQWXH</td>\n",
       "      <td>Groupe Crédit Agricole</td>\n",
       "      <td>202212</td>\n",
       "      <td>2331010</td>\n",
       "      <td>1</td>\n",
       "      <td>NaN</td>\n",
       "      <td>107065.030560</td>\n",
       "      <td>NaN</td>\n",
       "    </tr>\n",
       "  </tbody>\n",
       "</table>\n",
       "<p>70 rows × 9 columns</p>\n",
       "</div>"
      ],
      "text/plain": [
       "      Country_code              LEI_Code  \\\n",
       "20464           DK  GP5DT10VX1QRQUKVBK64   \n",
       "63320           SE  549300C6TUMDXNOVXS82   \n",
       "64294           SE  H0YX5LBGKDVOWCXBZ594   \n",
       "3906            DE  5299007S3UH5RKUYDA52   \n",
       "57476           NL  724500A1FNICHSDF2I11   \n",
       "...            ...                   ...   \n",
       "36048           FR  9695000CG7B84NLR5984   \n",
       "33126           FR  FR9695005MSX1OYEMGDF   \n",
       "27282           ES  5493006QMFDDMYWIAM13   \n",
       "32152           FR  R0MUWSFPU8MPRO8K5P83   \n",
       "35074           FR  FR969500TJ5KRTCJQWXH   \n",
       "\n",
       "                                      Bank_name  Period     Item  Scenario  \\\n",
       "20464                               Sydbank A/S  202212  2331010         1   \n",
       "63320           Länsförsäkringar Bank AB (publ)  202212  2331010         1   \n",
       "64294                      SBAB Bank AB – group  202212  2331010         1   \n",
       "3906       Deutsche Apotheker- und Ärztebank eG  202212  2331010         1   \n",
       "57476                         de Volksbank N.V.  202212  2331010         1   \n",
       "...                                         ...     ...      ...       ...   \n",
       "36048  Confédération Nationale du Crédit Mutuel  202212  2331010         1   \n",
       "33126                               Groupe BPCE  202212  2331010         1   \n",
       "27282                     Banco Santander, S.A.  202212  2331010         1   \n",
       "32152                          BNP Paribas S.A.  202212  2331010         1   \n",
       "35074                    Groupe Crédit Agricole  202212  2331010         1   \n",
       "\n",
       "      Fact_char         Amount Footnote  \n",
       "20464       NaN    1509.774500      NaN  \n",
       "63320       NaN    1858.412114      NaN  \n",
       "64294       NaN    2291.936459      NaN  \n",
       "3906        NaN    2437.051781      NaN  \n",
       "57476       NaN    3398.892597      NaN  \n",
       "...         ...            ...      ...  \n",
       "36048       NaN   62684.060417      NaN  \n",
       "33126       NaN   69664.899296      NaN  \n",
       "27282       NaN   83032.867779      NaN  \n",
       "32152       NaN  103444.412508      NaN  \n",
       "35074       NaN  107065.030560      NaN  \n",
       "\n",
       "[70 rows x 9 columns]"
      ]
     },
     "execution_count": 31,
     "metadata": {},
     "output_type": "execute_result"
    }
   ],
   "source": [
    "df"
   ]
  },
  {
   "cell_type": "code",
   "execution_count": null,
   "id": "ad1babbb-80eb-459a-a880-4c80b6fb3e6d",
   "metadata": {},
   "outputs": [],
   "source": []
  }
 ],
 "metadata": {
  "kernelspec": {
   "display_name": "Python 3 (ipykernel)",
   "language": "python",
   "name": "python3"
  },
  "language_info": {
   "codemirror_mode": {
    "name": "ipython",
    "version": 3
   },
   "file_extension": ".py",
   "mimetype": "text/x-python",
   "name": "python",
   "nbconvert_exporter": "python",
   "pygments_lexer": "ipython3",
   "version": "3.10.11"
  }
 },
 "nbformat": 4,
 "nbformat_minor": 5
}
