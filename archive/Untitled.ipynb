{
 "cells": [
  {
   "cell_type": "code",
   "execution_count": 5,
   "id": "81b2af5d-e053-40ca-ae2f-beeba6671e3b",
   "metadata": {},
   "outputs": [],
   "source": [
    "import numpy as np"
   ]
  },
  {
   "cell_type": "code",
   "execution_count": 6,
   "id": "561fd370-6115-4997-a402-93627e8f1d43",
   "metadata": {},
   "outputs": [],
   "source": [
    "L = np.random.randint(10, size=(3, 3))\n",
    "np.fill_diagonal(L, 0)"
   ]
  },
  {
   "cell_type": "code",
   "execution_count": 10,
   "id": "ea05606c-1432-4a93-8707-7b38a06755a6",
   "metadata": {},
   "outputs": [],
   "source": [
    "def fictitious_default(x, L):\n",
    "    Lbar = np.sum(L, axis=1)\n",
    "    Pi = np.matmul(np.diag(1/Lbar) , L)\n",
    "    Pi[Lbar == 0,:] = 0\n",
    "    default = True\n",
    "    default_set = 0.0\n",
    "    payments = Lbar.copy()\n",
    "    while default:\n",
    "        wealth = x + np.matmul(Pi.T,payments)\n",
    "        old_payments = payments.copy()\n",
    "        default_set = [i for i in range(len(wealth)) if (wealth[i] - Lbar[i])<0] \n",
    "        payments[default_set] = wealth[default_set]\n",
    "        if sum(1 for i in range(len(payments)) if np.abs(payments[i] - old_payments[i]) < 10 ** -6) == len(Lbar):\n",
    "            default = False\n",
    "    return payments\n"
   ]
  },
  {
   "cell_type": "code",
   "execution_count": 9,
   "id": "e129e7f5-3e8d-44bd-81e7-2a3d8a81bf11",
   "metadata": {},
   "outputs": [],
   "source": [
    "x = np.array([0.1259425, 0.3225500])\n",
    "L = np.array([[0,0], [0.6, 0]])"
   ]
  },
  {
   "cell_type": "code",
   "execution_count": 11,
   "id": "bd15fea6-1cdc-4ed5-884e-db6fc36ae051",
   "metadata": {},
   "outputs": [
    {
     "name": "stderr",
     "output_type": "stream",
     "text": [
      "C:\\Users\\patri\\AppData\\Local\\Temp\\ipykernel_8416\\394288461.py:3: RuntimeWarning: divide by zero encountered in divide\n",
      "  Pi = np.matmul(np.diag(1/Lbar) , L)\n",
      "C:\\Users\\patri\\AppData\\Local\\Temp\\ipykernel_8416\\394288461.py:3: RuntimeWarning: invalid value encountered in matmul\n",
      "  Pi = np.matmul(np.diag(1/Lbar) , L)\n"
     ]
    }
   ],
   "source": [
    "p = fictitious_default(x, L)"
   ]
  },
  {
   "cell_type": "code",
   "execution_count": 12,
   "id": "1bd6050d-39e0-4026-b175-476d7fd9086c",
   "metadata": {},
   "outputs": [
    {
     "data": {
      "text/plain": [
       "array([0.     , 0.32255])"
      ]
     },
     "execution_count": 12,
     "metadata": {},
     "output_type": "execute_result"
    }
   ],
   "source": [
    "p"
   ]
  },
  {
   "cell_type": "code",
   "execution_count": 52,
   "id": "99c22efe-016a-4e4e-a985-7e69dd7508ab",
   "metadata": {},
   "outputs": [],
   "source": [
    "payments[default_set] = [0,0]"
   ]
  },
  {
   "cell_type": "code",
   "execution_count": 53,
   "id": "6e8be93b-53f1-48bd-8065-68111de70fc0",
   "metadata": {},
   "outputs": [
    {
     "data": {
      "text/plain": [
       "array([9, 0, 0])"
      ]
     },
     "execution_count": 53,
     "metadata": {},
     "output_type": "execute_result"
    }
   ],
   "source": [
    "payments"
   ]
  },
  {
   "cell_type": "code",
   "execution_count": null,
   "id": "02b6b454-a5f5-467d-bc67-616c618ee001",
   "metadata": {},
   "outputs": [],
   "source": [
    "fictitious_default <- function(x, L) {\n",
    "  Lbar <- rowSums(L)\n",
    "  Pi <- diag(1/Lbar)%*%L\n",
    "  Pi[Lbar==0,] <- 0\n",
    "  default <- TRUE\n",
    "  default_set <- numeric(0)\n",
    "  payments <- Lbar\n",
    "  while(default){\n",
    "    wealth <- x + t(Pi)%*%payments\n",
    "    old_payments <- payments\n",
    "    default_set <- which((wealth - Lbar)<0)\n",
    "    payments[default_set] <- wealth[default_set]\n",
    "    if(sum(payments == old_payments) == length(Lbar)) {\n",
    "      default <- FALSE\n",
    "  }\n",
    "  payments\n",
    "  }\n",
    "}\n",
    "\n",
    "\n",
    " if ( sum(abs(payments - old_payments) < 10^(-6)) == length(Lbar) )\n",
    "            default = false;"
   ]
  }
 ],
 "metadata": {
  "kernelspec": {
   "display_name": "Python 3 (ipykernel)",
   "language": "python",
   "name": "python3"
  },
  "language_info": {
   "codemirror_mode": {
    "name": "ipython",
    "version": 3
   },
   "file_extension": ".py",
   "mimetype": "text/x-python",
   "name": "python",
   "nbconvert_exporter": "python",
   "pygments_lexer": "ipython3",
   "version": "3.10.4"
  }
 },
 "nbformat": 4,
 "nbformat_minor": 5
}
