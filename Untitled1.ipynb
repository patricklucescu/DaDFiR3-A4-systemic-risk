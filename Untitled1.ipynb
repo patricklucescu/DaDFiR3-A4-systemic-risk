{
 "cells": [
  {
   "cell_type": "code",
   "execution_count": 1,
   "id": "1e8c7fc3-b611-47cd-95ff-6a576a8fa499",
   "metadata": {},
   "outputs": [],
   "source": [
    "import numpy as np\n",
    "import matplotlib.pyplot as plt"
   ]
  },
  {
   "cell_type": "code",
   "execution_count": 19,
   "id": "4a664a9c-e5f3-4a0a-97fe-11feed15eaa1",
   "metadata": {},
   "outputs": [],
   "source": [
    "consumption = lambda x, beta: 1 / (1 + np.tanh(x) ** beta)"
   ]
  },
  {
   "cell_type": "code",
   "execution_count": 36,
   "id": "b7e35d0f-2530-4ee4-8c14-3a89fffd2e32",
   "metadata": {},
   "outputs": [],
   "source": [
    "beta = 0.6\n",
    "x = np.linspace(0.01,0.5,100)"
   ]
  },
  {
   "cell_type": "code",
   "execution_count": 37,
   "id": "3d99261f-53cb-473c-8a81-009f3f43e4dd",
   "metadata": {},
   "outputs": [
    {
     "data": {
      "text/plain": [
       "[<matplotlib.lines.Line2D at 0x1c8c050dd90>]"
      ]
     },
     "execution_count": 37,
     "metadata": {},
     "output_type": "execute_result"
    },
    {
     "data": {
      "image/png": "[encoded data removed]",
      "text/plain": [
       "<Figure size 432x288 with 1 Axes>"
      ]
     },
     "metadata": {
      "needs_background": "light"
     },
     "output_type": "display_data"
    }
   ],
   "source": [
    "plt.plot(x, consumption(x, beta))"
   ]
  },
  {
   "cell_type": "code",
   "execution_count": 18,
   "id": "8c4ceb79-be8f-4140-8465-bf891ba6e162",
   "metadata": {},
   "outputs": [
    {
     "data": {
      "text/plain": [
       "0.0"
      ]
     },
     "execution_count": 18,
     "metadata": {},
     "output_type": "execute_result"
    }
   ],
   "source": [
    "np.tanh(0)"
   ]
  },
  {
   "cell_type": "code",
   "execution_count": null,
   "id": "654d297a-2cc1-45d5-836e-a034d67bee92",
   "metadata": {},
   "outputs": [],
   "source": []
  }
 ],
 "metadata": {
  "kernelspec": {
   "display_name": "Python 3 (ipykernel)",
   "language": "python",
   "name": "python3"
  },
  "language_info": {
   "codemirror_mode": {
    "name": "ipython",
    "version": 3
   },
   "file_extension": ".py",
   "mimetype": "text/x-python",
   "name": "python",
   "nbconvert_exporter": "python",
   "pygments_lexer": "ipython3",
   "version": "3.9.7"
  }
 },
 "nbformat": 4,
 "nbformat_minor": 5
}
